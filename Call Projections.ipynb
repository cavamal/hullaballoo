{
 "cells": [
  {
   "cell_type": "code",
   "execution_count": 1,
   "metadata": {},
   "outputs": [],
   "source": [
    "import numpy as np\n",
    "import pandas as pd\n",
    "import matplotlib.pyplot as plt\n",
    "import statsmodels.api as sm\n",
    "import statsmodels.formula.api as smf\n",
    "from pandas.plotting import scatter_matrix\n",
    "\n",
    "%matplotlib inline\n",
    "\n",
    "df_calls = pd.read_csv('data/dataset.csv')\n",
    "df_pop = pd.read_csv('data/populationforecast.csv')"
   ]
  },
  {
   "cell_type": "code",
   "execution_count": 2,
   "metadata": {},
   "outputs": [
    {
     "data": {
      "text/html": [
       "<div>\n",
       "<style scoped>\n",
       "    .dataframe tbody tr th:only-of-type {\n",
       "        vertical-align: middle;\n",
       "    }\n",
       "\n",
       "    .dataframe tbody tr th {\n",
       "        vertical-align: top;\n",
       "    }\n",
       "\n",
       "    .dataframe thead th {\n",
       "        text-align: right;\n",
       "    }\n",
       "</style>\n",
       "<table border=\"1\" class=\"dataframe\">\n",
       "  <thead>\n",
       "    <tr style=\"text-align: right;\">\n",
       "      <th></th>\n",
       "      <th>Neighbourhood</th>\n",
       "      <th>Year</th>\n",
       "      <th>PopulationAge_0_to_14</th>\n",
       "      <th>PopulationAge_15_to_24</th>\n",
       "      <th>PopulationAge_25_to_34</th>\n",
       "      <th>PopulationAge_35_to_44</th>\n",
       "      <th>PopulationAge_45_to_54</th>\n",
       "      <th>PopulationAge_55_to_70</th>\n",
       "      <th>PopulationAge_71_to_120</th>\n",
       "      <th>Total_Population</th>\n",
       "      <th>Calls</th>\n",
       "    </tr>\n",
       "  </thead>\n",
       "  <tbody>\n",
       "    <tr>\n",
       "      <th>0</th>\n",
       "      <td>1</td>\n",
       "      <td>2001</td>\n",
       "      <td>3579</td>\n",
       "      <td>1715</td>\n",
       "      <td>1065</td>\n",
       "      <td>640</td>\n",
       "      <td>374</td>\n",
       "      <td>276</td>\n",
       "      <td>138</td>\n",
       "      <td>7787</td>\n",
       "      <td>882</td>\n",
       "    </tr>\n",
       "    <tr>\n",
       "      <th>1</th>\n",
       "      <td>1</td>\n",
       "      <td>2002</td>\n",
       "      <td>3790</td>\n",
       "      <td>1813</td>\n",
       "      <td>1167</td>\n",
       "      <td>669</td>\n",
       "      <td>434</td>\n",
       "      <td>303</td>\n",
       "      <td>153</td>\n",
       "      <td>8329</td>\n",
       "      <td>962</td>\n",
       "    </tr>\n",
       "    <tr>\n",
       "      <th>2</th>\n",
       "      <td>1</td>\n",
       "      <td>2003</td>\n",
       "      <td>3819</td>\n",
       "      <td>2018</td>\n",
       "      <td>1321</td>\n",
       "      <td>759</td>\n",
       "      <td>455</td>\n",
       "      <td>356</td>\n",
       "      <td>142</td>\n",
       "      <td>8870</td>\n",
       "      <td>938</td>\n",
       "    </tr>\n",
       "    <tr>\n",
       "      <th>3</th>\n",
       "      <td>1</td>\n",
       "      <td>2004</td>\n",
       "      <td>4074</td>\n",
       "      <td>2154</td>\n",
       "      <td>1359</td>\n",
       "      <td>967</td>\n",
       "      <td>469</td>\n",
       "      <td>380</td>\n",
       "      <td>173</td>\n",
       "      <td>9576</td>\n",
       "      <td>1056</td>\n",
       "    </tr>\n",
       "    <tr>\n",
       "      <th>4</th>\n",
       "      <td>1</td>\n",
       "      <td>2005</td>\n",
       "      <td>3496</td>\n",
       "      <td>2195</td>\n",
       "      <td>1416</td>\n",
       "      <td>855</td>\n",
       "      <td>493</td>\n",
       "      <td>439</td>\n",
       "      <td>155</td>\n",
       "      <td>9049</td>\n",
       "      <td>1006</td>\n",
       "    </tr>\n",
       "  </tbody>\n",
       "</table>\n",
       "</div>"
      ],
      "text/plain": [
       "   Neighbourhood  Year  PopulationAge_0_to_14  PopulationAge_15_to_24  \\\n",
       "0              1  2001                   3579                    1715   \n",
       "1              1  2002                   3790                    1813   \n",
       "2              1  2003                   3819                    2018   \n",
       "3              1  2004                   4074                    2154   \n",
       "4              1  2005                   3496                    2195   \n",
       "\n",
       "   PopulationAge_25_to_34  PopulationAge_35_to_44  PopulationAge_45_to_54  \\\n",
       "0                    1065                     640                     374   \n",
       "1                    1167                     669                     434   \n",
       "2                    1321                     759                     455   \n",
       "3                    1359                     967                     469   \n",
       "4                    1416                     855                     493   \n",
       "\n",
       "   PopulationAge_55_to_70  PopulationAge_71_to_120  Total_Population  Calls  \n",
       "0                     276                      138              7787    882  \n",
       "1                     303                      153              8329    962  \n",
       "2                     356                      142              8870    938  \n",
       "3                     380                      173              9576   1056  \n",
       "4                     439                      155              9049   1006  "
      ]
     },
     "execution_count": 2,
     "metadata": {},
     "output_type": "execute_result"
    }
   ],
   "source": [
    "df_calls.head()"
   ]
  },
  {
   "cell_type": "code",
   "execution_count": 3,
   "metadata": {},
   "outputs": [
    {
     "data": {
      "text/html": [
       "<div>\n",
       "<style scoped>\n",
       "    .dataframe tbody tr th:only-of-type {\n",
       "        vertical-align: middle;\n",
       "    }\n",
       "\n",
       "    .dataframe tbody tr th {\n",
       "        vertical-align: top;\n",
       "    }\n",
       "\n",
       "    .dataframe thead th {\n",
       "        text-align: right;\n",
       "    }\n",
       "</style>\n",
       "<table border=\"1\" class=\"dataframe\">\n",
       "  <thead>\n",
       "    <tr style=\"text-align: right;\">\n",
       "      <th></th>\n",
       "      <th>Neighbourhood</th>\n",
       "      <th>Year</th>\n",
       "      <th>PopulationAge_0_to_14</th>\n",
       "      <th>PopulationAge_15_to_24</th>\n",
       "      <th>PopulationAge_25_to_34</th>\n",
       "      <th>PopulationAge_35_to_44</th>\n",
       "      <th>PopulationAge_45_to_54</th>\n",
       "      <th>PopulationAge_55_to_70</th>\n",
       "      <th>PopulationAge_71_to_120</th>\n",
       "      <th>Total_Population</th>\n",
       "    </tr>\n",
       "  </thead>\n",
       "  <tbody>\n",
       "    <tr>\n",
       "      <th>0</th>\n",
       "      <td>1</td>\n",
       "      <td>2030</td>\n",
       "      <td>6369</td>\n",
       "      <td>3079</td>\n",
       "      <td>3729</td>\n",
       "      <td>4190</td>\n",
       "      <td>2952</td>\n",
       "      <td>2581</td>\n",
       "      <td>882</td>\n",
       "      <td>23782</td>\n",
       "    </tr>\n",
       "    <tr>\n",
       "      <th>1</th>\n",
       "      <td>2</td>\n",
       "      <td>2030</td>\n",
       "      <td>5090</td>\n",
       "      <td>2460</td>\n",
       "      <td>2981</td>\n",
       "      <td>3350</td>\n",
       "      <td>2358</td>\n",
       "      <td>2060</td>\n",
       "      <td>705</td>\n",
       "      <td>19004</td>\n",
       "    </tr>\n",
       "    <tr>\n",
       "      <th>2</th>\n",
       "      <td>3</td>\n",
       "      <td>2030</td>\n",
       "      <td>3823</td>\n",
       "      <td>1848</td>\n",
       "      <td>2237</td>\n",
       "      <td>2515</td>\n",
       "      <td>1773</td>\n",
       "      <td>1547</td>\n",
       "      <td>529</td>\n",
       "      <td>14272</td>\n",
       "    </tr>\n",
       "    <tr>\n",
       "      <th>3</th>\n",
       "      <td>4</td>\n",
       "      <td>2030</td>\n",
       "      <td>0</td>\n",
       "      <td>0</td>\n",
       "      <td>0</td>\n",
       "      <td>0</td>\n",
       "      <td>0</td>\n",
       "      <td>0</td>\n",
       "      <td>0</td>\n",
       "      <td>0</td>\n",
       "    </tr>\n",
       "  </tbody>\n",
       "</table>\n",
       "</div>"
      ],
      "text/plain": [
       "   Neighbourhood  Year  PopulationAge_0_to_14  PopulationAge_15_to_24  \\\n",
       "0              1  2030                   6369                    3079   \n",
       "1              2  2030                   5090                    2460   \n",
       "2              3  2030                   3823                    1848   \n",
       "3              4  2030                      0                       0   \n",
       "\n",
       "   PopulationAge_25_to_34  PopulationAge_35_to_44  PopulationAge_45_to_54  \\\n",
       "0                    3729                    4190                    2952   \n",
       "1                    2981                    3350                    2358   \n",
       "2                    2237                    2515                    1773   \n",
       "3                       0                       0                       0   \n",
       "\n",
       "   PopulationAge_55_to_70  PopulationAge_71_to_120  Total_Population  \n",
       "0                    2581                      882             23782  \n",
       "1                    2060                      705             19004  \n",
       "2                    1547                      529             14272  \n",
       "3                       0                        0                 0  "
      ]
     },
     "execution_count": 3,
     "metadata": {},
     "output_type": "execute_result"
    }
   ],
   "source": [
    "df_pop.head()"
   ]
  },
  {
   "cell_type": "code",
   "execution_count": 5,
   "metadata": {},
   "outputs": [
    {
     "data": {
      "image/png": "[encoded data removed]",
      "text/plain": [
       "<Figure size 1080x1080 with 3 Axes>"
      ]
     },
     "metadata": {
      "needs_background": "light"
     },
     "output_type": "display_data"
    }
   ],
   "source": [
    "fig, ax = plt.subplots(3,1,sharex=True,sharey=True, figsize = (15,15))\n",
    "\n",
    "cols = df_calls.columns[2:10]\n",
    "cols_pop = df_pop.columns[2:10]\n",
    "\n",
    "ax[0].xticks=[df_calls['Year'].unique().tolist(),'2030']\n",
    "ax[0].yticks=range(0,25000,1000)\n",
    "for z,b in zip(ax,range(1,4)):\n",
    "    for y in cols:\n",
    "        z.scatter(df_calls[df_calls['Neighbourhood']==b]['Year'], df_calls[df_calls['Neighbourhood']==b][y])\n",
    "\n",
    "for z,b in zip(ax,range(1,4)):\n",
    "    for y in cols:\n",
    "        z.scatter(df_pop[df_pop['Neighbourhood']==b]['Year'], df_pop[df_pop['Neighbourhood']==b][y])    \n",
    "        \n",
    "plt.legend(bbox_to_anchor=(1.1,1.1))\n",
    "plt.show();"
   ]
  },
  {
   "cell_type": "markdown",
   "metadata": {},
   "source": [
    "The data is separated in to 4 neighbourhoods - 1 thru 4. There are two residential, one residential/commercial, and one industrial. I need to figure out what the projected demand for calls in each neighbourhood is to figure out what they're expected calls are. \n",
    "\n",
    "Neighbourhood 4 has no population data, as nobody lives there full-time. \n",
    "\n",
    "I see us needing to solve the following problems: \n",
    "\n",
    "1. Come up with call rates for each neighbourhood. \n",
    "\n",
    "2. Correlate call-rates with population groups. \n",
    "\n",
    "3. Estimate population for industrial neighbourhood to determine call-rate correlation. \n",
    "\n",
    "4. Estimate call rate based on projected populations. \n",
    "\n",
    "Do I need to look at accuracy of population predictions? Get data from some third party? "
   ]
  },
  {
   "cell_type": "markdown",
   "metadata": {},
   "source": [
    "It seems pretty likely that there's a linear response between population sizes and call rates. \n",
    "\n",
    "There may be a case to be made for larger centers having a non-linear increase (maybe exponential or polynomial) but given that our population sizes are only getting up to 20k or so, a linear relationship is more likely. More research is necessary to determine if there are any existing relationships that we can capitalize on, but I'm time constrained currently. "
   ]
  },
  {
   "cell_type": "markdown",
   "metadata": {},
   "source": [
    "Neighbourhood 4 is an industrial zone. The people who will be making calls here will be working folks - so will respond better to working-age people then to the overall population. I should probably also take a look at the difference between \n",
    "\n",
    "I should probably also look at how the demographics are going to change. \n",
    "\n",
    "Reviewing them"
   ]
  },
  {
   "cell_type": "code",
   "execution_count": 6,
   "metadata": {},
   "outputs": [],
   "source": [
    "df_calls['Intercept'] = 1"
   ]
  },
  {
   "cell_type": "code",
   "execution_count": 7,
   "metadata": {},
   "outputs": [
    {
     "data": {
      "text/plain": [
       "Neighbourhood              int64\n",
       "Year                       int64\n",
       "PopulationAge_0_to_14      int64\n",
       "PopulationAge_15_to_24     int64\n",
       "PopulationAge_25_to_34     int64\n",
       "PopulationAge_35_to_44     int64\n",
       "PopulationAge_45_to_54     int64\n",
       "PopulationAge_55_to_70     int64\n",
       "PopulationAge_71_to_120    int64\n",
       "Total_Population           int64\n",
       "Calls                      int64\n",
       "Intercept                  int64\n",
       "dtype: object"
      ]
     },
     "execution_count": 7,
     "metadata": {},
     "output_type": "execute_result"
    }
   ],
   "source": [
    "df_calls.dtypes"
   ]
  },
  {
   "cell_type": "code",
   "execution_count": 8,
   "metadata": {},
   "outputs": [
    {
     "data": {
      "text/html": [
       "<div>\n",
       "<style scoped>\n",
       "    .dataframe tbody tr th:only-of-type {\n",
       "        vertical-align: middle;\n",
       "    }\n",
       "\n",
       "    .dataframe tbody tr th {\n",
       "        vertical-align: top;\n",
       "    }\n",
       "\n",
       "    .dataframe thead th {\n",
       "        text-align: right;\n",
       "    }\n",
       "</style>\n",
       "<table border=\"1\" class=\"dataframe\">\n",
       "  <thead>\n",
       "    <tr style=\"text-align: right;\">\n",
       "      <th></th>\n",
       "      <th>Neighbourhood</th>\n",
       "      <th>Year</th>\n",
       "      <th>PopulationAge_0_to_14</th>\n",
       "      <th>PopulationAge_15_to_24</th>\n",
       "      <th>PopulationAge_25_to_34</th>\n",
       "      <th>PopulationAge_35_to_44</th>\n",
       "      <th>PopulationAge_45_to_54</th>\n",
       "      <th>PopulationAge_55_to_70</th>\n",
       "      <th>PopulationAge_71_to_120</th>\n",
       "      <th>Total_Population</th>\n",
       "      <th>Calls</th>\n",
       "      <th>Intercept</th>\n",
       "    </tr>\n",
       "  </thead>\n",
       "  <tbody>\n",
       "    <tr>\n",
       "      <th>count</th>\n",
       "      <td>18.0</td>\n",
       "      <td>18.000000</td>\n",
       "      <td>18.000000</td>\n",
       "      <td>18.000000</td>\n",
       "      <td>18.000000</td>\n",
       "      <td>18.000000</td>\n",
       "      <td>18.000000</td>\n",
       "      <td>18.000000</td>\n",
       "      <td>18.000000</td>\n",
       "      <td>18.000000</td>\n",
       "      <td>18.000000</td>\n",
       "      <td>18.0</td>\n",
       "    </tr>\n",
       "    <tr>\n",
       "      <th>mean</th>\n",
       "      <td>1.0</td>\n",
       "      <td>2009.500000</td>\n",
       "      <td>3598.888889</td>\n",
       "      <td>2675.388889</td>\n",
       "      <td>2085.388889</td>\n",
       "      <td>1308.222222</td>\n",
       "      <td>757.777778</td>\n",
       "      <td>604.388889</td>\n",
       "      <td>226.722222</td>\n",
       "      <td>11256.777778</td>\n",
       "      <td>1303.388889</td>\n",
       "      <td>1.0</td>\n",
       "    </tr>\n",
       "    <tr>\n",
       "      <th>std</th>\n",
       "      <td>0.0</td>\n",
       "      <td>5.338539</td>\n",
       "      <td>182.158912</td>\n",
       "      <td>570.476698</td>\n",
       "      <td>708.833021</td>\n",
       "      <td>465.921295</td>\n",
       "      <td>290.475990</td>\n",
       "      <td>235.311843</td>\n",
       "      <td>74.775590</td>\n",
       "      <td>2201.400398</td>\n",
       "      <td>327.176358</td>\n",
       "      <td>0.0</td>\n",
       "    </tr>\n",
       "    <tr>\n",
       "      <th>min</th>\n",
       "      <td>1.0</td>\n",
       "      <td>2001.000000</td>\n",
       "      <td>3337.000000</td>\n",
       "      <td>1715.000000</td>\n",
       "      <td>1065.000000</td>\n",
       "      <td>640.000000</td>\n",
       "      <td>374.000000</td>\n",
       "      <td>276.000000</td>\n",
       "      <td>138.000000</td>\n",
       "      <td>7787.000000</td>\n",
       "      <td>882.000000</td>\n",
       "      <td>1.0</td>\n",
       "    </tr>\n",
       "    <tr>\n",
       "      <th>25%</th>\n",
       "      <td>1.0</td>\n",
       "      <td>2005.250000</td>\n",
       "      <td>3487.750000</td>\n",
       "      <td>2207.750000</td>\n",
       "      <td>1404.750000</td>\n",
       "      <td>933.250000</td>\n",
       "      <td>502.500000</td>\n",
       "      <td>424.750000</td>\n",
       "      <td>164.000000</td>\n",
       "      <td>9413.250000</td>\n",
       "      <td>1005.250000</td>\n",
       "      <td>1.0</td>\n",
       "    </tr>\n",
       "    <tr>\n",
       "      <th>50%</th>\n",
       "      <td>1.0</td>\n",
       "      <td>2009.500000</td>\n",
       "      <td>3589.500000</td>\n",
       "      <td>2763.500000</td>\n",
       "      <td>2030.500000</td>\n",
       "      <td>1221.500000</td>\n",
       "      <td>677.500000</td>\n",
       "      <td>549.000000</td>\n",
       "      <td>211.000000</td>\n",
       "      <td>11030.000000</td>\n",
       "      <td>1265.500000</td>\n",
       "      <td>1.0</td>\n",
       "    </tr>\n",
       "    <tr>\n",
       "      <th>75%</th>\n",
       "      <td>1.0</td>\n",
       "      <td>2013.750000</td>\n",
       "      <td>3683.250000</td>\n",
       "      <td>3063.750000</td>\n",
       "      <td>2701.750000</td>\n",
       "      <td>1720.500000</td>\n",
       "      <td>1032.500000</td>\n",
       "      <td>780.250000</td>\n",
       "      <td>266.000000</td>\n",
       "      <td>13186.250000</td>\n",
       "      <td>1574.750000</td>\n",
       "      <td>1.0</td>\n",
       "    </tr>\n",
       "    <tr>\n",
       "      <th>max</th>\n",
       "      <td>1.0</td>\n",
       "      <td>2018.000000</td>\n",
       "      <td>4074.000000</td>\n",
       "      <td>3548.000000</td>\n",
       "      <td>3214.000000</td>\n",
       "      <td>2032.000000</td>\n",
       "      <td>1251.000000</td>\n",
       "      <td>1007.000000</td>\n",
       "      <td>364.000000</td>\n",
       "      <td>14481.000000</td>\n",
       "      <td>1855.000000</td>\n",
       "      <td>1.0</td>\n",
       "    </tr>\n",
       "  </tbody>\n",
       "</table>\n",
       "</div>"
      ],
      "text/plain": [
       "       Neighbourhood         Year  PopulationAge_0_to_14  \\\n",
       "count           18.0    18.000000              18.000000   \n",
       "mean             1.0  2009.500000            3598.888889   \n",
       "std              0.0     5.338539             182.158912   \n",
       "min              1.0  2001.000000            3337.000000   \n",
       "25%              1.0  2005.250000            3487.750000   \n",
       "50%              1.0  2009.500000            3589.500000   \n",
       "75%              1.0  2013.750000            3683.250000   \n",
       "max              1.0  2018.000000            4074.000000   \n",
       "\n",
       "       PopulationAge_15_to_24  PopulationAge_25_to_34  PopulationAge_35_to_44  \\\n",
       "count               18.000000               18.000000               18.000000   \n",
       "mean              2675.388889             2085.388889             1308.222222   \n",
       "std                570.476698              708.833021              465.921295   \n",
       "min               1715.000000             1065.000000              640.000000   \n",
       "25%               2207.750000             1404.750000              933.250000   \n",
       "50%               2763.500000             2030.500000             1221.500000   \n",
       "75%               3063.750000             2701.750000             1720.500000   \n",
       "max               3548.000000             3214.000000             2032.000000   \n",
       "\n",
       "       PopulationAge_45_to_54  PopulationAge_55_to_70  \\\n",
       "count               18.000000               18.000000   \n",
       "mean               757.777778              604.388889   \n",
       "std                290.475990              235.311843   \n",
       "min                374.000000              276.000000   \n",
       "25%                502.500000              424.750000   \n",
       "50%                677.500000              549.000000   \n",
       "75%               1032.500000              780.250000   \n",
       "max               1251.000000             1007.000000   \n",
       "\n",
       "       PopulationAge_71_to_120  Total_Population        Calls  Intercept  \n",
       "count                18.000000         18.000000    18.000000       18.0  \n",
       "mean                226.722222      11256.777778  1303.388889        1.0  \n",
       "std                  74.775590       2201.400398   327.176358        0.0  \n",
       "min                 138.000000       7787.000000   882.000000        1.0  \n",
       "25%                 164.000000       9413.250000  1005.250000        1.0  \n",
       "50%                 211.000000      11030.000000  1265.500000        1.0  \n",
       "75%                 266.000000      13186.250000  1574.750000        1.0  \n",
       "max                 364.000000      14481.000000  1855.000000        1.0  "
      ]
     },
     "execution_count": 8,
     "metadata": {},
     "output_type": "execute_result"
    }
   ],
   "source": [
    "df_calls[df_calls['Neighbourhood']==1].describe()"
   ]
  },
  {
   "cell_type": "code",
   "execution_count": 9,
   "metadata": {},
   "outputs": [
    {
     "data": {
      "image/png": "[encoded data removed]",
      "text/plain": [
       "<Figure size 432x288 with 1 Axes>"
      ]
     },
     "metadata": {
      "needs_background": "light"
     },
     "output_type": "display_data"
    }
   ],
   "source": [
    "#check neighbourhood 1 for relationship between calls and pop \n",
    "filt = df_calls['Neighbourhood']==1\n",
    "\n",
    "model1 = sm.OLS(df_calls[filt]['Calls'],df_calls[filt][['Intercept','Total_Population']])\n",
    "results1 = model1.fit()\n",
    "\n",
    "\n",
    "plt.scatter(df_calls[filt]['Total_Population'],df_calls[filt]['Calls']);"
   ]
  },
  {
   "cell_type": "code",
   "execution_count": 10,
   "metadata": {},
   "outputs": [
    {
     "name": "stderr",
     "output_type": "stream",
     "text": [
      "C:\\Users\\Maliarenko\\Anaconda3\\envs\\dataInvestigation\\lib\\site-packages\\scipy\\stats\\stats.py:1394: UserWarning: kurtosistest only valid for n>=20 ... continuing anyway, n=18\n",
      "  \"anyway, n=%i\" % int(n))\n"
     ]
    },
    {
     "data": {
      "text/html": [
       "<table class=\"simpletable\">\n",
       "<caption>OLS Regression Results</caption>\n",
       "<tr>\n",
       "  <th>Dep. Variable:</th>          <td>Calls</td>      <th>  R-squared:         </th> <td>   0.913</td>\n",
       "</tr>\n",
       "<tr>\n",
       "  <th>Model:</th>                   <td>OLS</td>       <th>  Adj. R-squared:    </th> <td>   0.908</td>\n",
       "</tr>\n",
       "<tr>\n",
       "  <th>Method:</th>             <td>Least Squares</td>  <th>  F-statistic:       </th> <td>   168.4</td>\n",
       "</tr>\n",
       "<tr>\n",
       "  <th>Date:</th>             <td>Sat, 27 Oct 2018</td> <th>  Prob (F-statistic):</th> <td>6.57e-10</td>\n",
       "</tr>\n",
       "<tr>\n",
       "  <th>Time:</th>                 <td>11:40:13</td>     <th>  Log-Likelihood:    </th> <td> -107.25</td>\n",
       "</tr>\n",
       "<tr>\n",
       "  <th>No. Observations:</th>      <td>    18</td>      <th>  AIC:               </th> <td>   218.5</td>\n",
       "</tr>\n",
       "<tr>\n",
       "  <th>Df Residuals:</th>          <td>    16</td>      <th>  BIC:               </th> <td>   220.3</td>\n",
       "</tr>\n",
       "<tr>\n",
       "  <th>Df Model:</th>              <td>     1</td>      <th>                     </th>     <td> </td>   \n",
       "</tr>\n",
       "<tr>\n",
       "  <th>Covariance Type:</th>      <td>nonrobust</td>    <th>                     </th>     <td> </td>   \n",
       "</tr>\n",
       "</table>\n",
       "<table class=\"simpletable\">\n",
       "<tr>\n",
       "          <td></td>            <th>coef</th>     <th>std err</th>      <th>t</th>      <th>P>|t|</th>  <th>[0.025</th>    <th>0.975]</th>  \n",
       "</tr>\n",
       "<tr>\n",
       "  <th>Intercept</th>        <td> -295.3884</td> <td>  125.406</td> <td>   -2.355</td> <td> 0.032</td> <td> -561.236</td> <td>  -29.540</td>\n",
       "</tr>\n",
       "<tr>\n",
       "  <th>Total_Population</th> <td>    0.1420</td> <td>    0.011</td> <td>   12.977</td> <td> 0.000</td> <td>    0.119</td> <td>    0.165</td>\n",
       "</tr>\n",
       "</table>\n",
       "<table class=\"simpletable\">\n",
       "<tr>\n",
       "  <th>Omnibus:</th>       <td> 6.425</td> <th>  Durbin-Watson:     </th> <td>   2.134</td>\n",
       "</tr>\n",
       "<tr>\n",
       "  <th>Prob(Omnibus):</th> <td> 0.040</td> <th>  Jarque-Bera (JB):  </th> <td>   3.979</td>\n",
       "</tr>\n",
       "<tr>\n",
       "  <th>Skew:</th>          <td>-0.688</td> <th>  Prob(JB):          </th> <td>   0.137</td>\n",
       "</tr>\n",
       "<tr>\n",
       "  <th>Kurtosis:</th>      <td> 4.847</td> <th>  Cond. No.          </th> <td>6.14e+04</td>\n",
       "</tr>\n",
       "</table><br/><br/>Warnings:<br/>[1] Standard Errors assume that the covariance matrix of the errors is correctly specified.<br/>[2] The condition number is large, 6.14e+04. This might indicate that there are<br/>strong multicollinearity or other numerical problems."
      ],
      "text/plain": [
       "<class 'statsmodels.iolib.summary.Summary'>\n",
       "\"\"\"\n",
       "                            OLS Regression Results                            \n",
       "==============================================================================\n",
       "Dep. Variable:                  Calls   R-squared:                       0.913\n",
       "Model:                            OLS   Adj. R-squared:                  0.908\n",
       "Method:                 Least Squares   F-statistic:                     168.4\n",
       "Date:                Sat, 27 Oct 2018   Prob (F-statistic):           6.57e-10\n",
       "Time:                        11:40:13   Log-Likelihood:                -107.25\n",
       "No. Observations:                  18   AIC:                             218.5\n",
       "Df Residuals:                      16   BIC:                             220.3\n",
       "Df Model:                           1                                         \n",
       "Covariance Type:            nonrobust                                         \n",
       "====================================================================================\n",
       "                       coef    std err          t      P>|t|      [0.025      0.975]\n",
       "------------------------------------------------------------------------------------\n",
       "Intercept         -295.3884    125.406     -2.355      0.032    -561.236     -29.540\n",
       "Total_Population     0.1420      0.011     12.977      0.000       0.119       0.165\n",
       "==============================================================================\n",
       "Omnibus:                        6.425   Durbin-Watson:                   2.134\n",
       "Prob(Omnibus):                  0.040   Jarque-Bera (JB):                3.979\n",
       "Skew:                          -0.688   Prob(JB):                        0.137\n",
       "Kurtosis:                       4.847   Cond. No.                     6.14e+04\n",
       "==============================================================================\n",
       "\n",
       "Warnings:\n",
       "[1] Standard Errors assume that the covariance matrix of the errors is correctly specified.\n",
       "[2] The condition number is large, 6.14e+04. This might indicate that there are\n",
       "strong multicollinearity or other numerical problems.\n",
       "\"\"\""
      ]
     },
     "execution_count": 10,
     "metadata": {},
     "output_type": "execute_result"
    }
   ],
   "source": [
    "results1.summary()"
   ]
  },
  {
   "cell_type": "code",
   "execution_count": 11,
   "metadata": {},
   "outputs": [
    {
     "data": {
      "image/png": "[encoded data removed]",
      "text/plain": [
       "<Figure size 432x288 with 1 Axes>"
      ]
     },
     "metadata": {
      "needs_background": "light"
     },
     "output_type": "display_data"
    }
   ],
   "source": [
    "fig, ax = plt.subplots()\n",
    "fig = sm.graphics.plot_fit(results1,1,ax=ax)\n",
    "plt.show()"
   ]
  },
  {
   "cell_type": "code",
   "execution_count": 12,
   "metadata": {},
   "outputs": [
    {
     "data": {
      "image/png": "[encoded data removed]",
      "text/plain": [
       "<Figure size 432x288 with 1 Axes>"
      ]
     },
     "metadata": {
      "needs_background": "light"
     },
     "output_type": "display_data"
    }
   ],
   "source": [
    "#check neighbourhood 2 for relationship between calls and pop\n",
    "filt1 = df_calls['Neighbourhood']==2\n",
    "\n",
    "model2 = sm.OLS(df_calls[filt1]['Calls'],df_calls[filt1][['Intercept','Total_Population']])\n",
    "results2 = model2.fit()\n",
    "\n",
    "plt.scatter(df_calls[filt1]['Total_Population'],df_calls[filt1]['Calls']);"
   ]
  },
  {
   "cell_type": "code",
   "execution_count": 13,
   "metadata": {},
   "outputs": [
    {
     "name": "stderr",
     "output_type": "stream",
     "text": [
      "C:\\Users\\Maliarenko\\Anaconda3\\envs\\dataInvestigation\\lib\\site-packages\\scipy\\stats\\stats.py:1394: UserWarning: kurtosistest only valid for n>=20 ... continuing anyway, n=18\n",
      "  \"anyway, n=%i\" % int(n))\n"
     ]
    },
    {
     "data": {
      "text/html": [
       "<table class=\"simpletable\">\n",
       "<caption>OLS Regression Results</caption>\n",
       "<tr>\n",
       "  <th>Dep. Variable:</th>          <td>Calls</td>      <th>  R-squared:         </th> <td>   0.386</td>\n",
       "</tr>\n",
       "<tr>\n",
       "  <th>Model:</th>                   <td>OLS</td>       <th>  Adj. R-squared:    </th> <td>   0.348</td>\n",
       "</tr>\n",
       "<tr>\n",
       "  <th>Method:</th>             <td>Least Squares</td>  <th>  F-statistic:       </th> <td>   10.08</td>\n",
       "</tr>\n",
       "<tr>\n",
       "  <th>Date:</th>             <td>Sat, 27 Oct 2018</td> <th>  Prob (F-statistic):</th>  <td>0.00589</td>\n",
       "</tr>\n",
       "<tr>\n",
       "  <th>Time:</th>                 <td>11:40:13</td>     <th>  Log-Likelihood:    </th> <td> -136.24</td>\n",
       "</tr>\n",
       "<tr>\n",
       "  <th>No. Observations:</th>      <td>    18</td>      <th>  AIC:               </th> <td>   276.5</td>\n",
       "</tr>\n",
       "<tr>\n",
       "  <th>Df Residuals:</th>          <td>    16</td>      <th>  BIC:               </th> <td>   278.3</td>\n",
       "</tr>\n",
       "<tr>\n",
       "  <th>Df Model:</th>              <td>     1</td>      <th>                     </th>     <td> </td>   \n",
       "</tr>\n",
       "<tr>\n",
       "  <th>Covariance Type:</th>      <td>nonrobust</td>    <th>                     </th>     <td> </td>   \n",
       "</tr>\n",
       "</table>\n",
       "<table class=\"simpletable\">\n",
       "<tr>\n",
       "          <td></td>            <th>coef</th>     <th>std err</th>      <th>t</th>      <th>P>|t|</th>  <th>[0.025</th>    <th>0.975]</th>  \n",
       "</tr>\n",
       "<tr>\n",
       "  <th>Intercept</th>        <td> -356.6513</td> <td>  623.206</td> <td>   -0.572</td> <td> 0.575</td> <td>-1677.788</td> <td>  964.486</td>\n",
       "</tr>\n",
       "<tr>\n",
       "  <th>Total_Population</th> <td>    0.2221</td> <td>    0.070</td> <td>    3.174</td> <td> 0.006</td> <td>    0.074</td> <td>    0.370</td>\n",
       "</tr>\n",
       "</table>\n",
       "<table class=\"simpletable\">\n",
       "<tr>\n",
       "  <th>Omnibus:</th>       <td> 1.016</td> <th>  Durbin-Watson:     </th> <td>   1.995</td>\n",
       "</tr>\n",
       "<tr>\n",
       "  <th>Prob(Omnibus):</th> <td> 0.602</td> <th>  Jarque-Bera (JB):  </th> <td>   0.924</td>\n",
       "</tr>\n",
       "<tr>\n",
       "  <th>Skew:</th>          <td>-0.460</td> <th>  Prob(JB):          </th> <td>   0.630</td>\n",
       "</tr>\n",
       "<tr>\n",
       "  <th>Kurtosis:</th>      <td> 2.380</td> <th>  Cond. No.          </th> <td>4.74e+04</td>\n",
       "</tr>\n",
       "</table><br/><br/>Warnings:<br/>[1] Standard Errors assume that the covariance matrix of the errors is correctly specified.<br/>[2] The condition number is large, 4.74e+04. This might indicate that there are<br/>strong multicollinearity or other numerical problems."
      ],
      "text/plain": [
       "<class 'statsmodels.iolib.summary.Summary'>\n",
       "\"\"\"\n",
       "                            OLS Regression Results                            \n",
       "==============================================================================\n",
       "Dep. Variable:                  Calls   R-squared:                       0.386\n",
       "Model:                            OLS   Adj. R-squared:                  0.348\n",
       "Method:                 Least Squares   F-statistic:                     10.08\n",
       "Date:                Sat, 27 Oct 2018   Prob (F-statistic):            0.00589\n",
       "Time:                        11:40:13   Log-Likelihood:                -136.24\n",
       "No. Observations:                  18   AIC:                             276.5\n",
       "Df Residuals:                      16   BIC:                             278.3\n",
       "Df Model:                           1                                         \n",
       "Covariance Type:            nonrobust                                         \n",
       "====================================================================================\n",
       "                       coef    std err          t      P>|t|      [0.025      0.975]\n",
       "------------------------------------------------------------------------------------\n",
       "Intercept         -356.6513    623.206     -0.572      0.575   -1677.788     964.486\n",
       "Total_Population     0.2221      0.070      3.174      0.006       0.074       0.370\n",
       "==============================================================================\n",
       "Omnibus:                        1.016   Durbin-Watson:                   1.995\n",
       "Prob(Omnibus):                  0.602   Jarque-Bera (JB):                0.924\n",
       "Skew:                          -0.460   Prob(JB):                        0.630\n",
       "Kurtosis:                       2.380   Cond. No.                     4.74e+04\n",
       "==============================================================================\n",
       "\n",
       "Warnings:\n",
       "[1] Standard Errors assume that the covariance matrix of the errors is correctly specified.\n",
       "[2] The condition number is large, 4.74e+04. This might indicate that there are\n",
       "strong multicollinearity or other numerical problems.\n",
       "\"\"\""
      ]
     },
     "execution_count": 13,
     "metadata": {},
     "output_type": "execute_result"
    }
   ],
   "source": [
    "results2.summary()"
   ]
  },
  {
   "cell_type": "code",
   "execution_count": 14,
   "metadata": {},
   "outputs": [
    {
     "data": {
      "image/png": "[encoded data removed]",
      "text/plain": [
       "<Figure size 432x288 with 1 Axes>"
      ]
     },
     "metadata": {
      "needs_background": "light"
     },
     "output_type": "display_data"
    }
   ],
   "source": [
    "fig, ax = plt.subplots()\n",
    "fig = sm.graphics.plot_fit(results2,1,ax=ax)\n",
    "plt.show()"
   ]
  },
  {
   "cell_type": "markdown",
   "metadata": {},
   "source": [
    "Our correlation coefficient is relatively poor, suggesting a large variance if we're going to use this to extrapolate against our population nbumbers. Let's see if we can find a better correlation. "
   ]
  },
  {
   "cell_type": "code",
   "execution_count": 15,
   "metadata": {},
   "outputs": [
    {
     "data": {
      "image/png": "[encoded data removed]",
      "text/plain": [
       "<Figure size 432x288 with 1 Axes>"
      ]
     },
     "metadata": {
      "needs_background": "light"
     },
     "output_type": "display_data"
    }
   ],
   "source": [
    "#check neighbourhood 3 for relationship between calls and pop\n",
    "\n",
    "filt1 = df_calls['Neighbourhood']==3\n",
    "\n",
    "model3 = sm.OLS(df_calls[filt1]['Calls'],df_calls[filt1][['Intercept','Total_Population']])\n",
    "results3 = model3.fit()\n",
    "\n",
    "plt.scatter(df_calls[filt1]['Total_Population'],df_calls[filt1]['Calls']);"
   ]
  },
  {
   "cell_type": "code",
   "execution_count": 16,
   "metadata": {},
   "outputs": [
    {
     "name": "stderr",
     "output_type": "stream",
     "text": [
      "C:\\Users\\Maliarenko\\Anaconda3\\envs\\dataInvestigation\\lib\\site-packages\\scipy\\stats\\stats.py:1394: UserWarning: kurtosistest only valid for n>=20 ... continuing anyway, n=18\n",
      "  \"anyway, n=%i\" % int(n))\n"
     ]
    },
    {
     "data": {
      "text/html": [
       "<table class=\"simpletable\">\n",
       "<caption>OLS Regression Results</caption>\n",
       "<tr>\n",
       "  <th>Dep. Variable:</th>          <td>Calls</td>      <th>  R-squared:         </th> <td>   0.930</td>\n",
       "</tr>\n",
       "<tr>\n",
       "  <th>Model:</th>                   <td>OLS</td>       <th>  Adj. R-squared:    </th> <td>   0.926</td>\n",
       "</tr>\n",
       "<tr>\n",
       "  <th>Method:</th>             <td>Least Squares</td>  <th>  F-statistic:       </th> <td>   214.1</td>\n",
       "</tr>\n",
       "<tr>\n",
       "  <th>Date:</th>             <td>Sat, 27 Oct 2018</td> <th>  Prob (F-statistic):</th> <td>1.11e-10</td>\n",
       "</tr>\n",
       "<tr>\n",
       "  <th>Time:</th>                 <td>11:40:13</td>     <th>  Log-Likelihood:    </th> <td> -93.925</td>\n",
       "</tr>\n",
       "<tr>\n",
       "  <th>No. Observations:</th>      <td>    18</td>      <th>  AIC:               </th> <td>   191.8</td>\n",
       "</tr>\n",
       "<tr>\n",
       "  <th>Df Residuals:</th>          <td>    16</td>      <th>  BIC:               </th> <td>   193.6</td>\n",
       "</tr>\n",
       "<tr>\n",
       "  <th>Df Model:</th>              <td>     1</td>      <th>                     </th>     <td> </td>   \n",
       "</tr>\n",
       "<tr>\n",
       "  <th>Covariance Type:</th>      <td>nonrobust</td>    <th>                     </th>     <td> </td>   \n",
       "</tr>\n",
       "</table>\n",
       "<table class=\"simpletable\">\n",
       "<tr>\n",
       "          <td></td>            <th>coef</th>     <th>std err</th>      <th>t</th>      <th>P>|t|</th>  <th>[0.025</th>    <th>0.975]</th>  \n",
       "</tr>\n",
       "<tr>\n",
       "  <th>Intercept</th>        <td>  -96.1219</td> <td>   63.054</td> <td>   -1.524</td> <td> 0.147</td> <td> -229.790</td> <td>   37.547</td>\n",
       "</tr>\n",
       "<tr>\n",
       "  <th>Total_Population</th> <td>    0.1352</td> <td>    0.009</td> <td>   14.631</td> <td> 0.000</td> <td>    0.116</td> <td>    0.155</td>\n",
       "</tr>\n",
       "</table>\n",
       "<table class=\"simpletable\">\n",
       "<tr>\n",
       "  <th>Omnibus:</th>       <td> 1.768</td> <th>  Durbin-Watson:     </th> <td>   2.011</td>\n",
       "</tr>\n",
       "<tr>\n",
       "  <th>Prob(Omnibus):</th> <td> 0.413</td> <th>  Jarque-Bera (JB):  </th> <td>   1.379</td>\n",
       "</tr>\n",
       "<tr>\n",
       "  <th>Skew:</th>          <td> 0.510</td> <th>  Prob(JB):          </th> <td>   0.502</td>\n",
       "</tr>\n",
       "<tr>\n",
       "  <th>Kurtosis:</th>      <td> 2.106</td> <th>  Cond. No.          </th> <td>3.85e+04</td>\n",
       "</tr>\n",
       "</table><br/><br/>Warnings:<br/>[1] Standard Errors assume that the covariance matrix of the errors is correctly specified.<br/>[2] The condition number is large, 3.85e+04. This might indicate that there are<br/>strong multicollinearity or other numerical problems."
      ],
      "text/plain": [
       "<class 'statsmodels.iolib.summary.Summary'>\n",
       "\"\"\"\n",
       "                            OLS Regression Results                            \n",
       "==============================================================================\n",
       "Dep. Variable:                  Calls   R-squared:                       0.930\n",
       "Model:                            OLS   Adj. R-squared:                  0.926\n",
       "Method:                 Least Squares   F-statistic:                     214.1\n",
       "Date:                Sat, 27 Oct 2018   Prob (F-statistic):           1.11e-10\n",
       "Time:                        11:40:13   Log-Likelihood:                -93.925\n",
       "No. Observations:                  18   AIC:                             191.8\n",
       "Df Residuals:                      16   BIC:                             193.6\n",
       "Df Model:                           1                                         \n",
       "Covariance Type:            nonrobust                                         \n",
       "====================================================================================\n",
       "                       coef    std err          t      P>|t|      [0.025      0.975]\n",
       "------------------------------------------------------------------------------------\n",
       "Intercept          -96.1219     63.054     -1.524      0.147    -229.790      37.547\n",
       "Total_Population     0.1352      0.009     14.631      0.000       0.116       0.155\n",
       "==============================================================================\n",
       "Omnibus:                        1.768   Durbin-Watson:                   2.011\n",
       "Prob(Omnibus):                  0.413   Jarque-Bera (JB):                1.379\n",
       "Skew:                           0.510   Prob(JB):                        0.502\n",
       "Kurtosis:                       2.106   Cond. No.                     3.85e+04\n",
       "==============================================================================\n",
       "\n",
       "Warnings:\n",
       "[1] Standard Errors assume that the covariance matrix of the errors is correctly specified.\n",
       "[2] The condition number is large, 3.85e+04. This might indicate that there are\n",
       "strong multicollinearity or other numerical problems.\n",
       "\"\"\""
      ]
     },
     "execution_count": 16,
     "metadata": {},
     "output_type": "execute_result"
    }
   ],
   "source": [
    "results3.summary()"
   ]
  },
  {
   "cell_type": "code",
   "execution_count": 17,
   "metadata": {},
   "outputs": [
    {
     "data": {
      "image/png": "[encoded data removed]",
      "text/plain": [
       "<Figure size 432x288 with 1 Axes>"
      ]
     },
     "metadata": {
      "needs_background": "light"
     },
     "output_type": "display_data"
    }
   ],
   "source": [
    "fig, ax = plt.subplots()\n",
    "fig = sm.graphics.plot_fit(results3,1,ax=ax)\n",
    "plt.show()"
   ]
  },
  {
   "cell_type": "markdown",
   "metadata": {},
   "source": [
    "# Better Correlations for Neighbourhoods 2 and 4"
   ]
  },
  {
   "cell_type": "code",
   "execution_count": 18,
   "metadata": {},
   "outputs": [],
   "source": [
    "#get total town population for each year\n",
    "tot_pop = df_calls.groupby(['Year'])[['Total_Population','Intercept']].sum()"
   ]
  },
  {
   "cell_type": "code",
   "execution_count": 19,
   "metadata": {},
   "outputs": [],
   "source": [
    "tot_pop['Intercept']=1"
   ]
  },
  {
   "cell_type": "code",
   "execution_count": 20,
   "metadata": {},
   "outputs": [
    {
     "data": {
      "text/plain": [
       "36     571\n",
       "37     567\n",
       "38     614\n",
       "39     635\n",
       "40     693\n",
       "41     644\n",
       "42     696\n",
       "43     773\n",
       "44     842\n",
       "45     774\n",
       "46     816\n",
       "47     969\n",
       "48     941\n",
       "49     923\n",
       "50     963\n",
       "51    1064\n",
       "52    1086\n",
       "53    1042\n",
       "Name: Calls, dtype: int64"
      ]
     },
     "execution_count": 20,
     "metadata": {},
     "output_type": "execute_result"
    }
   ],
   "source": [
    "# matching up indices for plotting/ OLS\n",
    "df_calls[filt1]['Calls']"
   ]
  },
  {
   "cell_type": "code",
   "execution_count": 21,
   "metadata": {},
   "outputs": [],
   "source": [
    "x = list(range(18,36))"
   ]
  },
  {
   "cell_type": "code",
   "execution_count": 22,
   "metadata": {},
   "outputs": [
    {
     "data": {
      "text/html": [
       "<div>\n",
       "<style scoped>\n",
       "    .dataframe tbody tr th:only-of-type {\n",
       "        vertical-align: middle;\n",
       "    }\n",
       "\n",
       "    .dataframe tbody tr th {\n",
       "        vertical-align: top;\n",
       "    }\n",
       "\n",
       "    .dataframe thead th {\n",
       "        text-align: right;\n",
       "    }\n",
       "</style>\n",
       "<table border=\"1\" class=\"dataframe\">\n",
       "  <thead>\n",
       "    <tr style=\"text-align: right;\">\n",
       "      <th></th>\n",
       "      <th>Year</th>\n",
       "      <th>Total_Population</th>\n",
       "      <th>Intercept</th>\n",
       "    </tr>\n",
       "    <tr>\n",
       "      <th>index</th>\n",
       "      <th></th>\n",
       "      <th></th>\n",
       "      <th></th>\n",
       "    </tr>\n",
       "  </thead>\n",
       "  <tbody>\n",
       "    <tr>\n",
       "      <th>18</th>\n",
       "      <td>2001</td>\n",
       "      <td>17856</td>\n",
       "      <td>1</td>\n",
       "    </tr>\n",
       "    <tr>\n",
       "      <th>19</th>\n",
       "      <td>2002</td>\n",
       "      <td>21163</td>\n",
       "      <td>1</td>\n",
       "    </tr>\n",
       "    <tr>\n",
       "      <th>20</th>\n",
       "      <td>2003</td>\n",
       "      <td>23095</td>\n",
       "      <td>1</td>\n",
       "    </tr>\n",
       "    <tr>\n",
       "      <th>21</th>\n",
       "      <td>2004</td>\n",
       "      <td>22397</td>\n",
       "      <td>1</td>\n",
       "    </tr>\n",
       "    <tr>\n",
       "      <th>22</th>\n",
       "      <td>2005</td>\n",
       "      <td>21042</td>\n",
       "      <td>1</td>\n",
       "    </tr>\n",
       "    <tr>\n",
       "      <th>23</th>\n",
       "      <td>2006</td>\n",
       "      <td>22336</td>\n",
       "      <td>1</td>\n",
       "    </tr>\n",
       "    <tr>\n",
       "      <th>24</th>\n",
       "      <td>2007</td>\n",
       "      <td>24922</td>\n",
       "      <td>1</td>\n",
       "    </tr>\n",
       "    <tr>\n",
       "      <th>25</th>\n",
       "      <td>2008</td>\n",
       "      <td>25192</td>\n",
       "      <td>1</td>\n",
       "    </tr>\n",
       "    <tr>\n",
       "      <th>26</th>\n",
       "      <td>2009</td>\n",
       "      <td>26211</td>\n",
       "      <td>1</td>\n",
       "    </tr>\n",
       "    <tr>\n",
       "      <th>27</th>\n",
       "      <td>2010</td>\n",
       "      <td>28160</td>\n",
       "      <td>1</td>\n",
       "    </tr>\n",
       "    <tr>\n",
       "      <th>28</th>\n",
       "      <td>2011</td>\n",
       "      <td>27489</td>\n",
       "      <td>1</td>\n",
       "    </tr>\n",
       "    <tr>\n",
       "      <th>29</th>\n",
       "      <td>2012</td>\n",
       "      <td>28228</td>\n",
       "      <td>1</td>\n",
       "    </tr>\n",
       "    <tr>\n",
       "      <th>30</th>\n",
       "      <td>2013</td>\n",
       "      <td>27418</td>\n",
       "      <td>1</td>\n",
       "    </tr>\n",
       "    <tr>\n",
       "      <th>31</th>\n",
       "      <td>2014</td>\n",
       "      <td>32361</td>\n",
       "      <td>1</td>\n",
       "    </tr>\n",
       "    <tr>\n",
       "      <th>32</th>\n",
       "      <td>2015</td>\n",
       "      <td>31520</td>\n",
       "      <td>1</td>\n",
       "    </tr>\n",
       "    <tr>\n",
       "      <th>33</th>\n",
       "      <td>2016</td>\n",
       "      <td>34035</td>\n",
       "      <td>1</td>\n",
       "    </tr>\n",
       "    <tr>\n",
       "      <th>34</th>\n",
       "      <td>2017</td>\n",
       "      <td>33665</td>\n",
       "      <td>1</td>\n",
       "    </tr>\n",
       "    <tr>\n",
       "      <th>35</th>\n",
       "      <td>2018</td>\n",
       "      <td>33896</td>\n",
       "      <td>1</td>\n",
       "    </tr>\n",
       "  </tbody>\n",
       "</table>\n",
       "</div>"
      ],
      "text/plain": [
       "       Year  Total_Population  Intercept\n",
       "index                                   \n",
       "18     2001             17856          1\n",
       "19     2002             21163          1\n",
       "20     2003             23095          1\n",
       "21     2004             22397          1\n",
       "22     2005             21042          1\n",
       "23     2006             22336          1\n",
       "24     2007             24922          1\n",
       "25     2008             25192          1\n",
       "26     2009             26211          1\n",
       "27     2010             28160          1\n",
       "28     2011             27489          1\n",
       "29     2012             28228          1\n",
       "30     2013             27418          1\n",
       "31     2014             32361          1\n",
       "32     2015             31520          1\n",
       "33     2016             34035          1\n",
       "34     2017             33665          1\n",
       "35     2018             33896          1"
      ]
     },
     "execution_count": 22,
     "metadata": {},
     "output_type": "execute_result"
    }
   ],
   "source": [
    "tot_pop['index'] = x\n",
    "tot_pop.reset_index(level=0,inplace=True)\n",
    "tot_pop.set_index('index',inplace=True)\n",
    "tot_pop"
   ]
  },
  {
   "cell_type": "code",
   "execution_count": 23,
   "metadata": {},
   "outputs": [
    {
     "data": {
      "image/png": "[encoded data removed]",
      "text/plain": [
       "<Figure size 432x288 with 1 Axes>"
      ]
     },
     "metadata": {
      "needs_background": "light"
     },
     "output_type": "display_data"
    }
   ],
   "source": [
    "filt1 = df_calls['Neighbourhood']==2\n",
    "\n",
    "model2_mod = sm.OLS(df_calls[filt1]['Calls'],tot_pop[['Intercept','Total_Population']])\n",
    "results2_mod = model2_mod.fit()\n",
    "plt.scatter(tot_pop['Total_Population'],df_calls[filt1]['Calls']);"
   ]
  },
  {
   "cell_type": "code",
   "execution_count": 24,
   "metadata": {},
   "outputs": [
    {
     "name": "stderr",
     "output_type": "stream",
     "text": [
      "C:\\Users\\Maliarenko\\Anaconda3\\envs\\dataInvestigation\\lib\\site-packages\\scipy\\stats\\stats.py:1394: UserWarning: kurtosistest only valid for n>=20 ... continuing anyway, n=18\n",
      "  \"anyway, n=%i\" % int(n))\n"
     ]
    },
    {
     "data": {
      "text/html": [
       "<table class=\"simpletable\">\n",
       "<caption>OLS Regression Results</caption>\n",
       "<tr>\n",
       "  <th>Dep. Variable:</th>          <td>Calls</td>      <th>  R-squared:         </th> <td>   0.414</td>\n",
       "</tr>\n",
       "<tr>\n",
       "  <th>Model:</th>                   <td>OLS</td>       <th>  Adj. R-squared:    </th> <td>   0.377</td>\n",
       "</tr>\n",
       "<tr>\n",
       "  <th>Method:</th>             <td>Least Squares</td>  <th>  F-statistic:       </th> <td>   11.30</td>\n",
       "</tr>\n",
       "<tr>\n",
       "  <th>Date:</th>             <td>Sat, 27 Oct 2018</td> <th>  Prob (F-statistic):</th>  <td>0.00397</td>\n",
       "</tr>\n",
       "<tr>\n",
       "  <th>Time:</th>                 <td>11:40:13</td>     <th>  Log-Likelihood:    </th> <td> -135.82</td>\n",
       "</tr>\n",
       "<tr>\n",
       "  <th>No. Observations:</th>      <td>    18</td>      <th>  AIC:               </th> <td>   275.6</td>\n",
       "</tr>\n",
       "<tr>\n",
       "  <th>Df Residuals:</th>          <td>    16</td>      <th>  BIC:               </th> <td>   277.4</td>\n",
       "</tr>\n",
       "<tr>\n",
       "  <th>Df Model:</th>              <td>     1</td>      <th>                     </th>     <td> </td>   \n",
       "</tr>\n",
       "<tr>\n",
       "  <th>Covariance Type:</th>      <td>nonrobust</td>    <th>                     </th>     <td> </td>   \n",
       "</tr>\n",
       "</table>\n",
       "<table class=\"simpletable\">\n",
       "<tr>\n",
       "          <td></td>            <th>coef</th>     <th>std err</th>      <th>t</th>      <th>P>|t|</th>  <th>[0.025</th>    <th>0.975]</th>  \n",
       "</tr>\n",
       "<tr>\n",
       "  <th>Intercept</th>        <td> -562.8807</td> <td>  649.584</td> <td>   -0.867</td> <td> 0.399</td> <td>-1939.938</td> <td>  814.177</td>\n",
       "</tr>\n",
       "<tr>\n",
       "  <th>Total_Population</th> <td>    0.0804</td> <td>    0.024</td> <td>    3.361</td> <td> 0.004</td> <td>    0.030</td> <td>    0.131</td>\n",
       "</tr>\n",
       "</table>\n",
       "<table class=\"simpletable\">\n",
       "<tr>\n",
       "  <th>Omnibus:</th>       <td> 3.373</td> <th>  Durbin-Watson:     </th> <td>   2.116</td>\n",
       "</tr>\n",
       "<tr>\n",
       "  <th>Prob(Omnibus):</th> <td> 0.185</td> <th>  Jarque-Bera (JB):  </th> <td>   2.326</td>\n",
       "</tr>\n",
       "<tr>\n",
       "  <th>Skew:</th>          <td>-0.877</td> <th>  Prob(JB):          </th> <td>   0.313</td>\n",
       "</tr>\n",
       "<tr>\n",
       "  <th>Kurtosis:</th>      <td> 2.835</td> <th>  Cond. No.          </th> <td>1.54e+05</td>\n",
       "</tr>\n",
       "</table><br/><br/>Warnings:<br/>[1] Standard Errors assume that the covariance matrix of the errors is correctly specified.<br/>[2] The condition number is large, 1.54e+05. This might indicate that there are<br/>strong multicollinearity or other numerical problems."
      ],
      "text/plain": [
       "<class 'statsmodels.iolib.summary.Summary'>\n",
       "\"\"\"\n",
       "                            OLS Regression Results                            \n",
       "==============================================================================\n",
       "Dep. Variable:                  Calls   R-squared:                       0.414\n",
       "Model:                            OLS   Adj. R-squared:                  0.377\n",
       "Method:                 Least Squares   F-statistic:                     11.30\n",
       "Date:                Sat, 27 Oct 2018   Prob (F-statistic):            0.00397\n",
       "Time:                        11:40:13   Log-Likelihood:                -135.82\n",
       "No. Observations:                  18   AIC:                             275.6\n",
       "Df Residuals:                      16   BIC:                             277.4\n",
       "Df Model:                           1                                         \n",
       "Covariance Type:            nonrobust                                         \n",
       "====================================================================================\n",
       "                       coef    std err          t      P>|t|      [0.025      0.975]\n",
       "------------------------------------------------------------------------------------\n",
       "Intercept         -562.8807    649.584     -0.867      0.399   -1939.938     814.177\n",
       "Total_Population     0.0804      0.024      3.361      0.004       0.030       0.131\n",
       "==============================================================================\n",
       "Omnibus:                        3.373   Durbin-Watson:                   2.116\n",
       "Prob(Omnibus):                  0.185   Jarque-Bera (JB):                2.326\n",
       "Skew:                          -0.877   Prob(JB):                        0.313\n",
       "Kurtosis:                       2.835   Cond. No.                     1.54e+05\n",
       "==============================================================================\n",
       "\n",
       "Warnings:\n",
       "[1] Standard Errors assume that the covariance matrix of the errors is correctly specified.\n",
       "[2] The condition number is large, 1.54e+05. This might indicate that there are\n",
       "strong multicollinearity or other numerical problems.\n",
       "\"\"\""
      ]
     },
     "execution_count": 24,
     "metadata": {},
     "output_type": "execute_result"
    }
   ],
   "source": [
    "results2_mod.summary()"
   ]
  },
  {
   "cell_type": "code",
   "execution_count": 25,
   "metadata": {},
   "outputs": [
    {
     "data": {
      "image/png": "[encoded data removed]",
      "text/plain": [
       "<Figure size 432x288 with 1 Axes>"
      ]
     },
     "metadata": {
      "needs_background": "light"
     },
     "output_type": "display_data"
    }
   ],
   "source": [
    "fig, ax = plt.subplots()\n",
    "fig = sm.graphics.plot_fit(results2_mod,1,ax=ax)\n",
    "plt.show()"
   ]
  },
  {
   "cell_type": "markdown",
   "metadata": {},
   "source": [
    "This is a stronger relationship, though it's not perfect. There may be some other variables that are a better fit. These will be left as an exploration for later - they're good enough for a preliminary look. \n",
    "\n",
    "What we can do is keep in mind the variance in the correlation and use that to get some high and low nubmers for projected calls. Given the variance displayed above, the differences here will likely be large over a 95% confidence interval, but the differences may be small enough to not sway any decision making. If a single emergency services center can handle up to 5000 calls, then it may be moot. We'll use this as our model of neighbourhood 2 for the purposes of this analysis. "
   ]
  },
  {
   "cell_type": "code",
   "execution_count": 26,
   "metadata": {},
   "outputs": [],
   "source": [
    "results2 = results2_mod"
   ]
  },
  {
   "cell_type": "code",
   "execution_count": 28,
   "metadata": {},
   "outputs": [
    {
     "data": {
      "text/html": [
       "<div>\n",
       "<style scoped>\n",
       "    .dataframe tbody tr th:only-of-type {\n",
       "        vertical-align: middle;\n",
       "    }\n",
       "\n",
       "    .dataframe tbody tr th {\n",
       "        vertical-align: top;\n",
       "    }\n",
       "\n",
       "    .dataframe thead th {\n",
       "        text-align: right;\n",
       "    }\n",
       "</style>\n",
       "<table border=\"1\" class=\"dataframe\">\n",
       "  <thead>\n",
       "    <tr style=\"text-align: right;\">\n",
       "      <th></th>\n",
       "      <th>Neighbourhood</th>\n",
       "      <th>Year</th>\n",
       "      <th>PopulationAge_0_to_14</th>\n",
       "      <th>PopulationAge_15_to_24</th>\n",
       "      <th>PopulationAge_25_to_34</th>\n",
       "      <th>PopulationAge_35_to_44</th>\n",
       "      <th>PopulationAge_45_to_54</th>\n",
       "      <th>PopulationAge_55_to_70</th>\n",
       "      <th>PopulationAge_71_to_120</th>\n",
       "      <th>Total_Population</th>\n",
       "      <th>Calls</th>\n",
       "      <th>Intercept</th>\n",
       "    </tr>\n",
       "  </thead>\n",
       "  <tbody>\n",
       "    <tr>\n",
       "      <th>54</th>\n",
       "      <td>4</td>\n",
       "      <td>2001</td>\n",
       "      <td>0</td>\n",
       "      <td>0</td>\n",
       "      <td>0</td>\n",
       "      <td>0</td>\n",
       "      <td>0</td>\n",
       "      <td>0</td>\n",
       "      <td>0</td>\n",
       "      <td>0</td>\n",
       "      <td>977</td>\n",
       "      <td>1</td>\n",
       "    </tr>\n",
       "    <tr>\n",
       "      <th>55</th>\n",
       "      <td>4</td>\n",
       "      <td>2002</td>\n",
       "      <td>0</td>\n",
       "      <td>0</td>\n",
       "      <td>0</td>\n",
       "      <td>0</td>\n",
       "      <td>0</td>\n",
       "      <td>0</td>\n",
       "      <td>0</td>\n",
       "      <td>0</td>\n",
       "      <td>1045</td>\n",
       "      <td>1</td>\n",
       "    </tr>\n",
       "    <tr>\n",
       "      <th>56</th>\n",
       "      <td>4</td>\n",
       "      <td>2003</td>\n",
       "      <td>0</td>\n",
       "      <td>0</td>\n",
       "      <td>0</td>\n",
       "      <td>0</td>\n",
       "      <td>0</td>\n",
       "      <td>0</td>\n",
       "      <td>0</td>\n",
       "      <td>0</td>\n",
       "      <td>1071</td>\n",
       "      <td>1</td>\n",
       "    </tr>\n",
       "    <tr>\n",
       "      <th>57</th>\n",
       "      <td>4</td>\n",
       "      <td>2004</td>\n",
       "      <td>0</td>\n",
       "      <td>0</td>\n",
       "      <td>0</td>\n",
       "      <td>0</td>\n",
       "      <td>0</td>\n",
       "      <td>0</td>\n",
       "      <td>0</td>\n",
       "      <td>0</td>\n",
       "      <td>1149</td>\n",
       "      <td>1</td>\n",
       "    </tr>\n",
       "    <tr>\n",
       "      <th>58</th>\n",
       "      <td>4</td>\n",
       "      <td>2005</td>\n",
       "      <td>0</td>\n",
       "      <td>0</td>\n",
       "      <td>0</td>\n",
       "      <td>0</td>\n",
       "      <td>0</td>\n",
       "      <td>0</td>\n",
       "      <td>0</td>\n",
       "      <td>0</td>\n",
       "      <td>1112</td>\n",
       "      <td>1</td>\n",
       "    </tr>\n",
       "    <tr>\n",
       "      <th>59</th>\n",
       "      <td>4</td>\n",
       "      <td>2006</td>\n",
       "      <td>0</td>\n",
       "      <td>0</td>\n",
       "      <td>0</td>\n",
       "      <td>0</td>\n",
       "      <td>0</td>\n",
       "      <td>0</td>\n",
       "      <td>0</td>\n",
       "      <td>0</td>\n",
       "      <td>1102</td>\n",
       "      <td>1</td>\n",
       "    </tr>\n",
       "    <tr>\n",
       "      <th>60</th>\n",
       "      <td>4</td>\n",
       "      <td>2007</td>\n",
       "      <td>0</td>\n",
       "      <td>0</td>\n",
       "      <td>0</td>\n",
       "      <td>0</td>\n",
       "      <td>0</td>\n",
       "      <td>0</td>\n",
       "      <td>0</td>\n",
       "      <td>0</td>\n",
       "      <td>1235</td>\n",
       "      <td>1</td>\n",
       "    </tr>\n",
       "    <tr>\n",
       "      <th>61</th>\n",
       "      <td>4</td>\n",
       "      <td>2008</td>\n",
       "      <td>0</td>\n",
       "      <td>0</td>\n",
       "      <td>0</td>\n",
       "      <td>0</td>\n",
       "      <td>0</td>\n",
       "      <td>0</td>\n",
       "      <td>0</td>\n",
       "      <td>0</td>\n",
       "      <td>1366</td>\n",
       "      <td>1</td>\n",
       "    </tr>\n",
       "    <tr>\n",
       "      <th>62</th>\n",
       "      <td>4</td>\n",
       "      <td>2009</td>\n",
       "      <td>0</td>\n",
       "      <td>0</td>\n",
       "      <td>0</td>\n",
       "      <td>0</td>\n",
       "      <td>0</td>\n",
       "      <td>0</td>\n",
       "      <td>0</td>\n",
       "      <td>0</td>\n",
       "      <td>1305</td>\n",
       "      <td>1</td>\n",
       "    </tr>\n",
       "    <tr>\n",
       "      <th>63</th>\n",
       "      <td>4</td>\n",
       "      <td>2010</td>\n",
       "      <td>0</td>\n",
       "      <td>0</td>\n",
       "      <td>0</td>\n",
       "      <td>0</td>\n",
       "      <td>0</td>\n",
       "      <td>0</td>\n",
       "      <td>0</td>\n",
       "      <td>0</td>\n",
       "      <td>1244</td>\n",
       "      <td>1</td>\n",
       "    </tr>\n",
       "    <tr>\n",
       "      <th>64</th>\n",
       "      <td>4</td>\n",
       "      <td>2011</td>\n",
       "      <td>0</td>\n",
       "      <td>0</td>\n",
       "      <td>0</td>\n",
       "      <td>0</td>\n",
       "      <td>0</td>\n",
       "      <td>0</td>\n",
       "      <td>0</td>\n",
       "      <td>0</td>\n",
       "      <td>1463</td>\n",
       "      <td>1</td>\n",
       "    </tr>\n",
       "    <tr>\n",
       "      <th>65</th>\n",
       "      <td>4</td>\n",
       "      <td>2012</td>\n",
       "      <td>0</td>\n",
       "      <td>0</td>\n",
       "      <td>0</td>\n",
       "      <td>0</td>\n",
       "      <td>0</td>\n",
       "      <td>0</td>\n",
       "      <td>0</td>\n",
       "      <td>0</td>\n",
       "      <td>1402</td>\n",
       "      <td>1</td>\n",
       "    </tr>\n",
       "    <tr>\n",
       "      <th>66</th>\n",
       "      <td>4</td>\n",
       "      <td>2013</td>\n",
       "      <td>0</td>\n",
       "      <td>0</td>\n",
       "      <td>0</td>\n",
       "      <td>0</td>\n",
       "      <td>0</td>\n",
       "      <td>0</td>\n",
       "      <td>0</td>\n",
       "      <td>0</td>\n",
       "      <td>1553</td>\n",
       "      <td>1</td>\n",
       "    </tr>\n",
       "    <tr>\n",
       "      <th>67</th>\n",
       "      <td>4</td>\n",
       "      <td>2014</td>\n",
       "      <td>0</td>\n",
       "      <td>0</td>\n",
       "      <td>0</td>\n",
       "      <td>0</td>\n",
       "      <td>0</td>\n",
       "      <td>0</td>\n",
       "      <td>0</td>\n",
       "      <td>0</td>\n",
       "      <td>1609</td>\n",
       "      <td>1</td>\n",
       "    </tr>\n",
       "    <tr>\n",
       "      <th>68</th>\n",
       "      <td>4</td>\n",
       "      <td>2015</td>\n",
       "      <td>0</td>\n",
       "      <td>0</td>\n",
       "      <td>0</td>\n",
       "      <td>0</td>\n",
       "      <td>0</td>\n",
       "      <td>0</td>\n",
       "      <td>0</td>\n",
       "      <td>0</td>\n",
       "      <td>1641</td>\n",
       "      <td>1</td>\n",
       "    </tr>\n",
       "    <tr>\n",
       "      <th>69</th>\n",
       "      <td>4</td>\n",
       "      <td>2016</td>\n",
       "      <td>0</td>\n",
       "      <td>0</td>\n",
       "      <td>0</td>\n",
       "      <td>0</td>\n",
       "      <td>0</td>\n",
       "      <td>0</td>\n",
       "      <td>0</td>\n",
       "      <td>0</td>\n",
       "      <td>1651</td>\n",
       "      <td>1</td>\n",
       "    </tr>\n",
       "    <tr>\n",
       "      <th>70</th>\n",
       "      <td>4</td>\n",
       "      <td>2017</td>\n",
       "      <td>0</td>\n",
       "      <td>0</td>\n",
       "      <td>0</td>\n",
       "      <td>0</td>\n",
       "      <td>0</td>\n",
       "      <td>0</td>\n",
       "      <td>0</td>\n",
       "      <td>0</td>\n",
       "      <td>1864</td>\n",
       "      <td>1</td>\n",
       "    </tr>\n",
       "    <tr>\n",
       "      <th>71</th>\n",
       "      <td>4</td>\n",
       "      <td>2018</td>\n",
       "      <td>0</td>\n",
       "      <td>0</td>\n",
       "      <td>0</td>\n",
       "      <td>0</td>\n",
       "      <td>0</td>\n",
       "      <td>0</td>\n",
       "      <td>0</td>\n",
       "      <td>0</td>\n",
       "      <td>1917</td>\n",
       "      <td>1</td>\n",
       "    </tr>\n",
       "  </tbody>\n",
       "</table>\n",
       "</div>"
      ],
      "text/plain": [
       "    Neighbourhood  Year  PopulationAge_0_to_14  PopulationAge_15_to_24  \\\n",
       "54              4  2001                      0                       0   \n",
       "55              4  2002                      0                       0   \n",
       "56              4  2003                      0                       0   \n",
       "57              4  2004                      0                       0   \n",
       "58              4  2005                      0                       0   \n",
       "59              4  2006                      0                       0   \n",
       "60              4  2007                      0                       0   \n",
       "61              4  2008                      0                       0   \n",
       "62              4  2009                      0                       0   \n",
       "63              4  2010                      0                       0   \n",
       "64              4  2011                      0                       0   \n",
       "65              4  2012                      0                       0   \n",
       "66              4  2013                      0                       0   \n",
       "67              4  2014                      0                       0   \n",
       "68              4  2015                      0                       0   \n",
       "69              4  2016                      0                       0   \n",
       "70              4  2017                      0                       0   \n",
       "71              4  2018                      0                       0   \n",
       "\n",
       "    PopulationAge_25_to_34  PopulationAge_35_to_44  PopulationAge_45_to_54  \\\n",
       "54                       0                       0                       0   \n",
       "55                       0                       0                       0   \n",
       "56                       0                       0                       0   \n",
       "57                       0                       0                       0   \n",
       "58                       0                       0                       0   \n",
       "59                       0                       0                       0   \n",
       "60                       0                       0                       0   \n",
       "61                       0                       0                       0   \n",
       "62                       0                       0                       0   \n",
       "63                       0                       0                       0   \n",
       "64                       0                       0                       0   \n",
       "65                       0                       0                       0   \n",
       "66                       0                       0                       0   \n",
       "67                       0                       0                       0   \n",
       "68                       0                       0                       0   \n",
       "69                       0                       0                       0   \n",
       "70                       0                       0                       0   \n",
       "71                       0                       0                       0   \n",
       "\n",
       "    PopulationAge_55_to_70  PopulationAge_71_to_120  Total_Population  Calls  \\\n",
       "54                       0                        0                 0    977   \n",
       "55                       0                        0                 0   1045   \n",
       "56                       0                        0                 0   1071   \n",
       "57                       0                        0                 0   1149   \n",
       "58                       0                        0                 0   1112   \n",
       "59                       0                        0                 0   1102   \n",
       "60                       0                        0                 0   1235   \n",
       "61                       0                        0                 0   1366   \n",
       "62                       0                        0                 0   1305   \n",
       "63                       0                        0                 0   1244   \n",
       "64                       0                        0                 0   1463   \n",
       "65                       0                        0                 0   1402   \n",
       "66                       0                        0                 0   1553   \n",
       "67                       0                        0                 0   1609   \n",
       "68                       0                        0                 0   1641   \n",
       "69                       0                        0                 0   1651   \n",
       "70                       0                        0                 0   1864   \n",
       "71                       0                        0                 0   1917   \n",
       "\n",
       "    Intercept  \n",
       "54          1  \n",
       "55          1  \n",
       "56          1  \n",
       "57          1  \n",
       "58          1  \n",
       "59          1  \n",
       "60          1  \n",
       "61          1  \n",
       "62          1  \n",
       "63          1  \n",
       "64          1  \n",
       "65          1  \n",
       "66          1  \n",
       "67          1  \n",
       "68          1  \n",
       "69          1  \n",
       "70          1  \n",
       "71          1  "
      ]
     },
     "execution_count": 28,
     "metadata": {},
     "output_type": "execute_result"
    }
   ],
   "source": [
    "filt1 = df_calls['Neighbourhood']==4\n",
    "df_calls[filt1]"
   ]
  },
  {
   "cell_type": "code",
   "execution_count": 34,
   "metadata": {},
   "outputs": [
    {
     "data": {
      "text/html": [
       "<div>\n",
       "<style scoped>\n",
       "    .dataframe tbody tr th:only-of-type {\n",
       "        vertical-align: middle;\n",
       "    }\n",
       "\n",
       "    .dataframe tbody tr th {\n",
       "        vertical-align: top;\n",
       "    }\n",
       "\n",
       "    .dataframe thead th {\n",
       "        text-align: right;\n",
       "    }\n",
       "</style>\n",
       "<table border=\"1\" class=\"dataframe\">\n",
       "  <thead>\n",
       "    <tr style=\"text-align: right;\">\n",
       "      <th></th>\n",
       "      <th>Year</th>\n",
       "      <th>Total_Population</th>\n",
       "      <th>Intercept</th>\n",
       "    </tr>\n",
       "    <tr>\n",
       "      <th>index</th>\n",
       "      <th></th>\n",
       "      <th></th>\n",
       "      <th></th>\n",
       "    </tr>\n",
       "  </thead>\n",
       "  <tbody>\n",
       "    <tr>\n",
       "      <th>54</th>\n",
       "      <td>2001</td>\n",
       "      <td>17856</td>\n",
       "      <td>1</td>\n",
       "    </tr>\n",
       "    <tr>\n",
       "      <th>55</th>\n",
       "      <td>2002</td>\n",
       "      <td>21163</td>\n",
       "      <td>1</td>\n",
       "    </tr>\n",
       "    <tr>\n",
       "      <th>56</th>\n",
       "      <td>2003</td>\n",
       "      <td>23095</td>\n",
       "      <td>1</td>\n",
       "    </tr>\n",
       "    <tr>\n",
       "      <th>57</th>\n",
       "      <td>2004</td>\n",
       "      <td>22397</td>\n",
       "      <td>1</td>\n",
       "    </tr>\n",
       "    <tr>\n",
       "      <th>58</th>\n",
       "      <td>2005</td>\n",
       "      <td>21042</td>\n",
       "      <td>1</td>\n",
       "    </tr>\n",
       "    <tr>\n",
       "      <th>59</th>\n",
       "      <td>2006</td>\n",
       "      <td>22336</td>\n",
       "      <td>1</td>\n",
       "    </tr>\n",
       "    <tr>\n",
       "      <th>60</th>\n",
       "      <td>2007</td>\n",
       "      <td>24922</td>\n",
       "      <td>1</td>\n",
       "    </tr>\n",
       "    <tr>\n",
       "      <th>61</th>\n",
       "      <td>2008</td>\n",
       "      <td>25192</td>\n",
       "      <td>1</td>\n",
       "    </tr>\n",
       "    <tr>\n",
       "      <th>62</th>\n",
       "      <td>2009</td>\n",
       "      <td>26211</td>\n",
       "      <td>1</td>\n",
       "    </tr>\n",
       "    <tr>\n",
       "      <th>63</th>\n",
       "      <td>2010</td>\n",
       "      <td>28160</td>\n",
       "      <td>1</td>\n",
       "    </tr>\n",
       "    <tr>\n",
       "      <th>64</th>\n",
       "      <td>2011</td>\n",
       "      <td>27489</td>\n",
       "      <td>1</td>\n",
       "    </tr>\n",
       "    <tr>\n",
       "      <th>65</th>\n",
       "      <td>2012</td>\n",
       "      <td>28228</td>\n",
       "      <td>1</td>\n",
       "    </tr>\n",
       "    <tr>\n",
       "      <th>66</th>\n",
       "      <td>2013</td>\n",
       "      <td>27418</td>\n",
       "      <td>1</td>\n",
       "    </tr>\n",
       "    <tr>\n",
       "      <th>67</th>\n",
       "      <td>2014</td>\n",
       "      <td>32361</td>\n",
       "      <td>1</td>\n",
       "    </tr>\n",
       "    <tr>\n",
       "      <th>68</th>\n",
       "      <td>2015</td>\n",
       "      <td>31520</td>\n",
       "      <td>1</td>\n",
       "    </tr>\n",
       "    <tr>\n",
       "      <th>69</th>\n",
       "      <td>2016</td>\n",
       "      <td>34035</td>\n",
       "      <td>1</td>\n",
       "    </tr>\n",
       "    <tr>\n",
       "      <th>70</th>\n",
       "      <td>2017</td>\n",
       "      <td>33665</td>\n",
       "      <td>1</td>\n",
       "    </tr>\n",
       "    <tr>\n",
       "      <th>71</th>\n",
       "      <td>2018</td>\n",
       "      <td>33896</td>\n",
       "      <td>1</td>\n",
       "    </tr>\n",
       "  </tbody>\n",
       "</table>\n",
       "</div>"
      ],
      "text/plain": [
       "       Year  Total_Population  Intercept\n",
       "index                                   \n",
       "54     2001             17856          1\n",
       "55     2002             21163          1\n",
       "56     2003             23095          1\n",
       "57     2004             22397          1\n",
       "58     2005             21042          1\n",
       "59     2006             22336          1\n",
       "60     2007             24922          1\n",
       "61     2008             25192          1\n",
       "62     2009             26211          1\n",
       "63     2010             28160          1\n",
       "64     2011             27489          1\n",
       "65     2012             28228          1\n",
       "66     2013             27418          1\n",
       "67     2014             32361          1\n",
       "68     2015             31520          1\n",
       "69     2016             34035          1\n",
       "70     2017             33665          1\n",
       "71     2018             33896          1"
      ]
     },
     "execution_count": 34,
     "metadata": {},
     "output_type": "execute_result"
    }
   ],
   "source": [
    "#resetting index to look at neighbourhood 4. I'm sure there's a better way\n",
    "\n",
    "x = list(range(54,72)) #range gathered from visual inspection\n",
    "\n",
    "tot_pop['index'] = x\n",
    "tot_pop.set_index('index',inplace=True)\n",
    "tot_pop\n"
   ]
  },
  {
   "cell_type": "code",
   "execution_count": 38,
   "metadata": {},
   "outputs": [
    {
     "data": {
      "image/png": "[encoded data removed]",
      "text/plain": [
       "<Figure size 432x288 with 1 Axes>"
      ]
     },
     "metadata": {
      "needs_background": "light"
     },
     "output_type": "display_data"
    }
   ],
   "source": [
    "filt1 = df_calls['Neighbourhood']==4\n",
    "\n",
    "model4 = sm.OLS(df_calls[filt1]['Calls'],tot_pop[['Intercept','Total_Population']])\n",
    "results4 = model4.fit()\n",
    "\n",
    "plt.scatter(tot_pop['Total_Population'],df_calls[filt1]['Calls']);"
   ]
  },
  {
   "cell_type": "code",
   "execution_count": 39,
   "metadata": {},
   "outputs": [
    {
     "name": "stderr",
     "output_type": "stream",
     "text": [
      "C:\\Users\\Maliarenko\\Anaconda3\\envs\\dataInvestigation\\lib\\site-packages\\scipy\\stats\\stats.py:1394: UserWarning: kurtosistest only valid for n>=20 ... continuing anyway, n=18\n",
      "  \"anyway, n=%i\" % int(n))\n"
     ]
    },
    {
     "data": {
      "text/html": [
       "<table class=\"simpletable\">\n",
       "<caption>OLS Regression Results</caption>\n",
       "<tr>\n",
       "  <th>Dep. Variable:</th>          <td>Calls</td>      <th>  R-squared:         </th> <td>   0.886</td>\n",
       "</tr>\n",
       "<tr>\n",
       "  <th>Model:</th>                   <td>OLS</td>       <th>  Adj. R-squared:    </th> <td>   0.879</td>\n",
       "</tr>\n",
       "<tr>\n",
       "  <th>Method:</th>             <td>Least Squares</td>  <th>  F-statistic:       </th> <td>   124.8</td>\n",
       "</tr>\n",
       "<tr>\n",
       "  <th>Date:</th>             <td>Sat, 27 Oct 2018</td> <th>  Prob (F-statistic):</th> <td>5.75e-09</td>\n",
       "</tr>\n",
       "<tr>\n",
       "  <th>Time:</th>                 <td>11:53:50</td>     <th>  Log-Likelihood:    </th> <td> -107.13</td>\n",
       "</tr>\n",
       "<tr>\n",
       "  <th>No. Observations:</th>      <td>    18</td>      <th>  AIC:               </th> <td>   218.3</td>\n",
       "</tr>\n",
       "<tr>\n",
       "  <th>Df Residuals:</th>          <td>    16</td>      <th>  BIC:               </th> <td>   220.0</td>\n",
       "</tr>\n",
       "<tr>\n",
       "  <th>Df Model:</th>              <td>     1</td>      <th>                     </th>     <td> </td>   \n",
       "</tr>\n",
       "<tr>\n",
       "  <th>Covariance Type:</th>      <td>nonrobust</td>    <th>                     </th>     <td> </td>   \n",
       "</tr>\n",
       "</table>\n",
       "<table class=\"simpletable\">\n",
       "<tr>\n",
       "          <td></td>            <th>coef</th>     <th>std err</th>      <th>t</th>      <th>P>|t|</th>  <th>[0.025</th>    <th>0.975]</th>  \n",
       "</tr>\n",
       "<tr>\n",
       "  <th>Intercept</th>        <td>  -78.4667</td> <td>  131.932</td> <td>   -0.595</td> <td> 0.560</td> <td> -358.151</td> <td>  201.217</td>\n",
       "</tr>\n",
       "<tr>\n",
       "  <th>Total_Population</th> <td>    0.0543</td> <td>    0.005</td> <td>   11.173</td> <td> 0.000</td> <td>    0.044</td> <td>    0.065</td>\n",
       "</tr>\n",
       "</table>\n",
       "<table class=\"simpletable\">\n",
       "<tr>\n",
       "  <th>Omnibus:</th>       <td> 0.186</td> <th>  Durbin-Watson:     </th> <td>   2.128</td>\n",
       "</tr>\n",
       "<tr>\n",
       "  <th>Prob(Omnibus):</th> <td> 0.911</td> <th>  Jarque-Bera (JB):  </th> <td>   0.269</td>\n",
       "</tr>\n",
       "<tr>\n",
       "  <th>Skew:</th>          <td>-0.199</td> <th>  Prob(JB):          </th> <td>   0.874</td>\n",
       "</tr>\n",
       "<tr>\n",
       "  <th>Kurtosis:</th>      <td> 2.553</td> <th>  Cond. No.          </th> <td>1.54e+05</td>\n",
       "</tr>\n",
       "</table><br/><br/>Warnings:<br/>[1] Standard Errors assume that the covariance matrix of the errors is correctly specified.<br/>[2] The condition number is large, 1.54e+05. This might indicate that there are<br/>strong multicollinearity or other numerical problems."
      ],
      "text/plain": [
       "<class 'statsmodels.iolib.summary.Summary'>\n",
       "\"\"\"\n",
       "                            OLS Regression Results                            \n",
       "==============================================================================\n",
       "Dep. Variable:                  Calls   R-squared:                       0.886\n",
       "Model:                            OLS   Adj. R-squared:                  0.879\n",
       "Method:                 Least Squares   F-statistic:                     124.8\n",
       "Date:                Sat, 27 Oct 2018   Prob (F-statistic):           5.75e-09\n",
       "Time:                        11:53:50   Log-Likelihood:                -107.13\n",
       "No. Observations:                  18   AIC:                             218.3\n",
       "Df Residuals:                      16   BIC:                             220.0\n",
       "Df Model:                           1                                         \n",
       "Covariance Type:            nonrobust                                         \n",
       "====================================================================================\n",
       "                       coef    std err          t      P>|t|      [0.025      0.975]\n",
       "------------------------------------------------------------------------------------\n",
       "Intercept          -78.4667    131.932     -0.595      0.560    -358.151     201.217\n",
       "Total_Population     0.0543      0.005     11.173      0.000       0.044       0.065\n",
       "==============================================================================\n",
       "Omnibus:                        0.186   Durbin-Watson:                   2.128\n",
       "Prob(Omnibus):                  0.911   Jarque-Bera (JB):                0.269\n",
       "Skew:                          -0.199   Prob(JB):                        0.874\n",
       "Kurtosis:                       2.553   Cond. No.                     1.54e+05\n",
       "==============================================================================\n",
       "\n",
       "Warnings:\n",
       "[1] Standard Errors assume that the covariance matrix of the errors is correctly specified.\n",
       "[2] The condition number is large, 1.54e+05. This might indicate that there are\n",
       "strong multicollinearity or other numerical problems.\n",
       "\"\"\""
      ]
     },
     "execution_count": 39,
     "metadata": {},
     "output_type": "execute_result"
    }
   ],
   "source": [
    "results4.summary()"
   ]
  },
  {
   "cell_type": "code",
   "execution_count": 40,
   "metadata": {},
   "outputs": [
    {
     "data": {
      "image/png": "[encoded data removed]",
      "text/plain": [
       "<Figure size 432x288 with 1 Axes>"
      ]
     },
     "metadata": {
      "needs_background": "light"
     },
     "output_type": "display_data"
    }
   ],
   "source": [
    "fig, ax = plt.subplots()\n",
    "fig = sm.graphics.plot_fit(results4,1,ax=ax)\n",
    "plt.show()"
   ]
  },
  {
   "cell_type": "markdown",
   "metadata": {},
   "source": [
    "Decent correlation, sensible responses. Let's use this."
   ]
  },
  {
   "cell_type": "markdown",
   "metadata": {},
   "source": [
    "## Estimating Call Demand based on Population Projections"
   ]
  },
  {
   "cell_type": "code",
   "execution_count": 70,
   "metadata": {
    "scrolled": true
   },
   "outputs": [
    {
     "data": {
      "text/plain": [
       "(0    3082.320783\n",
       " Name: Total_Population, dtype: float64, 0.9132338843071465)"
      ]
     },
     "execution_count": 70,
     "metadata": {},
     "output_type": "execute_result"
    }
   ],
   "source": [
    "#Neighbourhood 1\n",
    "df_pop[df_pop['Neighbourhood']==1]['Total_Population'] * results1.params[1] + results1.params[0], results1.rsquared\n"
   ]
  },
  {
   "cell_type": "code",
   "execution_count": 71,
   "metadata": {},
   "outputs": [
    {
     "data": {
      "text/plain": [
       "(2    1833.526156\n",
       " Name: Total_Population, dtype: float64, 0.9304534925261487)"
      ]
     },
     "execution_count": 71,
     "metadata": {},
     "output_type": "execute_result"
    }
   ],
   "source": [
    "#Neighbourhood 3\n",
    "\n",
    "df_pop[df_pop['Neighbourhood']==3]['Total_Population'] * results3.params[1] + results3.params[0] ,results3.rsquared"
   ]
  },
  {
   "cell_type": "code",
   "execution_count": 72,
   "metadata": {},
   "outputs": [
    {
     "data": {
      "text/plain": [
       "(4026.0745629945695, 0.41384723666619927)"
      ]
     },
     "execution_count": 72,
     "metadata": {},
     "output_type": "execute_result"
    }
   ],
   "source": [
    "#Neighbourhood 2 - against total population projections, same as our model\n",
    "df_pop['Total_Population'].sum() * results2.params[1] + results2.params[0], results2.rsquared"
   ]
  },
  {
   "cell_type": "code",
   "execution_count": 73,
   "metadata": {},
   "outputs": [
    {
     "data": {
      "text/plain": [
       "(3019.8848559339554, 0.8863955527839299)"
      ]
     },
     "execution_count": 73,
     "metadata": {},
     "output_type": "execute_result"
    }
   ],
   "source": [
    "#Neighbourhood 4 - against total population projections, same as our model\n",
    "\n",
    "df_pop['Total_Population'].sum() * results4.params[1] + results4.params[0], results4.rsquared"
   ]
  },
  {
   "cell_type": "markdown",
   "metadata": {},
   "source": [
    "## Further Analysis for Neighbourhood 2"
   ]
  },
  {
   "cell_type": "code",
   "execution_count": 83,
   "metadata": {},
   "outputs": [
    {
     "name": "stderr",
     "output_type": "stream",
     "text": [
      "C:\\Users\\Maliarenko\\Anaconda3\\envs\\dataInvestigation\\lib\\site-packages\\scipy\\stats\\stats.py:1394: UserWarning: kurtosistest only valid for n>=20 ... continuing anyway, n=18\n",
      "  \"anyway, n=%i\" % int(n))\n"
     ]
    },
    {
     "data": {
      "text/html": [
       "<table class=\"simpletable\">\n",
       "<caption>OLS Regression Results</caption>\n",
       "<tr>\n",
       "  <th>Dep. Variable:</th>          <td>Calls</td>      <th>  R-squared:         </th> <td>   0.414</td>\n",
       "</tr>\n",
       "<tr>\n",
       "  <th>Model:</th>                   <td>OLS</td>       <th>  Adj. R-squared:    </th> <td>   0.377</td>\n",
       "</tr>\n",
       "<tr>\n",
       "  <th>Method:</th>             <td>Least Squares</td>  <th>  F-statistic:       </th> <td>   11.30</td>\n",
       "</tr>\n",
       "<tr>\n",
       "  <th>Date:</th>             <td>Sat, 27 Oct 2018</td> <th>  Prob (F-statistic):</th>  <td>0.00397</td>\n",
       "</tr>\n",
       "<tr>\n",
       "  <th>Time:</th>                 <td>12:25:29</td>     <th>  Log-Likelihood:    </th> <td> -135.82</td>\n",
       "</tr>\n",
       "<tr>\n",
       "  <th>No. Observations:</th>      <td>    18</td>      <th>  AIC:               </th> <td>   275.6</td>\n",
       "</tr>\n",
       "<tr>\n",
       "  <th>Df Residuals:</th>          <td>    16</td>      <th>  BIC:               </th> <td>   277.4</td>\n",
       "</tr>\n",
       "<tr>\n",
       "  <th>Df Model:</th>              <td>     1</td>      <th>                     </th>     <td> </td>   \n",
       "</tr>\n",
       "<tr>\n",
       "  <th>Covariance Type:</th>      <td>nonrobust</td>    <th>                     </th>     <td> </td>   \n",
       "</tr>\n",
       "</table>\n",
       "<table class=\"simpletable\">\n",
       "<tr>\n",
       "          <td></td>            <th>coef</th>     <th>std err</th>      <th>t</th>      <th>P>|t|</th>  <th>[0.025</th>    <th>0.975]</th>  \n",
       "</tr>\n",
       "<tr>\n",
       "  <th>Intercept</th>        <td> -562.8807</td> <td>  649.584</td> <td>   -0.867</td> <td> 0.399</td> <td>-1939.938</td> <td>  814.177</td>\n",
       "</tr>\n",
       "<tr>\n",
       "  <th>Total_Population</th> <td>    0.0804</td> <td>    0.024</td> <td>    3.361</td> <td> 0.004</td> <td>    0.030</td> <td>    0.131</td>\n",
       "</tr>\n",
       "</table>\n",
       "<table class=\"simpletable\">\n",
       "<tr>\n",
       "  <th>Omnibus:</th>       <td> 3.373</td> <th>  Durbin-Watson:     </th> <td>   2.116</td>\n",
       "</tr>\n",
       "<tr>\n",
       "  <th>Prob(Omnibus):</th> <td> 0.185</td> <th>  Jarque-Bera (JB):  </th> <td>   2.326</td>\n",
       "</tr>\n",
       "<tr>\n",
       "  <th>Skew:</th>          <td>-0.877</td> <th>  Prob(JB):          </th> <td>   0.313</td>\n",
       "</tr>\n",
       "<tr>\n",
       "  <th>Kurtosis:</th>      <td> 2.835</td> <th>  Cond. No.          </th> <td>1.54e+05</td>\n",
       "</tr>\n",
       "</table><br/><br/>Warnings:<br/>[1] Standard Errors assume that the covariance matrix of the errors is correctly specified.<br/>[2] The condition number is large, 1.54e+05. This might indicate that there are<br/>strong multicollinearity or other numerical problems."
      ],
      "text/plain": [
       "<class 'statsmodels.iolib.summary.Summary'>\n",
       "\"\"\"\n",
       "                            OLS Regression Results                            \n",
       "==============================================================================\n",
       "Dep. Variable:                  Calls   R-squared:                       0.414\n",
       "Model:                            OLS   Adj. R-squared:                  0.377\n",
       "Method:                 Least Squares   F-statistic:                     11.30\n",
       "Date:                Sat, 27 Oct 2018   Prob (F-statistic):            0.00397\n",
       "Time:                        12:25:29   Log-Likelihood:                -135.82\n",
       "No. Observations:                  18   AIC:                             275.6\n",
       "Df Residuals:                      16   BIC:                             277.4\n",
       "Df Model:                           1                                         \n",
       "Covariance Type:            nonrobust                                         \n",
       "====================================================================================\n",
       "                       coef    std err          t      P>|t|      [0.025      0.975]\n",
       "------------------------------------------------------------------------------------\n",
       "Intercept         -562.8807    649.584     -0.867      0.399   -1939.938     814.177\n",
       "Total_Population     0.0804      0.024      3.361      0.004       0.030       0.131\n",
       "==============================================================================\n",
       "Omnibus:                        3.373   Durbin-Watson:                   2.116\n",
       "Prob(Omnibus):                  0.185   Jarque-Bera (JB):                2.326\n",
       "Skew:                          -0.877   Prob(JB):                        0.313\n",
       "Kurtosis:                       2.835   Cond. No.                     1.54e+05\n",
       "==============================================================================\n",
       "\n",
       "Warnings:\n",
       "[1] Standard Errors assume that the covariance matrix of the errors is correctly specified.\n",
       "[2] The condition number is large, 1.54e+05. This might indicate that there are\n",
       "strong multicollinearity or other numerical problems.\n",
       "\"\"\""
      ]
     },
     "execution_count": 83,
     "metadata": {},
     "output_type": "execute_result"
    }
   ],
   "source": [
    "results2.summary()"
   ]
  },
  {
   "cell_type": "code",
   "execution_count": 86,
   "metadata": {},
   "outputs": [
    {
     "data": {
      "text/html": [
       "<div>\n",
       "<style scoped>\n",
       "    .dataframe tbody tr th:only-of-type {\n",
       "        vertical-align: middle;\n",
       "    }\n",
       "\n",
       "    .dataframe tbody tr th {\n",
       "        vertical-align: top;\n",
       "    }\n",
       "\n",
       "    .dataframe thead th {\n",
       "        text-align: right;\n",
       "    }\n",
       "</style>\n",
       "<table border=\"1\" class=\"dataframe\">\n",
       "  <thead>\n",
       "    <tr style=\"text-align: right;\">\n",
       "      <th></th>\n",
       "      <th>0</th>\n",
       "      <th>1</th>\n",
       "    </tr>\n",
       "  </thead>\n",
       "  <tbody>\n",
       "    <tr>\n",
       "      <th>Intercept</th>\n",
       "      <td>-1939.938185</td>\n",
       "      <td>814.176879</td>\n",
       "    </tr>\n",
       "    <tr>\n",
       "      <th>Total_Population</th>\n",
       "      <td>0.029699</td>\n",
       "      <td>0.131153</td>\n",
       "    </tr>\n",
       "  </tbody>\n",
       "</table>\n",
       "</div>"
      ],
      "text/plain": [
       "                            0           1\n",
       "Intercept        -1939.938185  814.176879\n",
       "Total_Population     0.029699    0.131153"
      ]
     },
     "execution_count": 86,
     "metadata": {},
     "output_type": "execute_result"
    }
   ],
   "source": [
    "results2.conf_int(.05)"
   ]
  },
  {
   "cell_type": "code",
   "execution_count": 89,
   "metadata": {},
   "outputs": [
    {
     "data": {
      "text/plain": [
       "0.13115314252575677"
      ]
     },
     "execution_count": 89,
     "metadata": {},
     "output_type": "execute_result"
    }
   ],
   "source": [
    "results2.conf_int(.05)[1]['Intercept']"
   ]
  },
  {
   "cell_type": "code",
   "execution_count": 91,
   "metadata": {},
   "outputs": [
    {
     "data": {
      "text/plain": [
       "8297.512885105392"
      ]
     },
     "execution_count": 91,
     "metadata": {},
     "output_type": "execute_result"
    }
   ],
   "source": [
    "#calculate the demand based on the upper bounds of the 95% CI as a conservative case \n",
    "\n",
    "df_pop['Total_Population'].sum() * results2.conf_int(.05)[1]['Total_Population'] + results2.conf_int(.05)[1]['Intercept']"
   ]
  },
  {
   "cell_type": "markdown",
   "metadata": {},
   "source": [
    "This is a ~100% increase over the mean value of the regression. While any given infrastructure might be capable of handling it, that strikes me as unlikely. 8000 calls equates to about 21 emergenices a day - likely a problem.\n",
    "\n",
    "Let's throw the kitchen sink at it. "
   ]
  },
  {
   "cell_type": "code",
   "execution_count": 141,
   "metadata": {},
   "outputs": [],
   "source": [
    "filt1 = df_calls['Neighbourhood']==2\n",
    "\n",
    "model2_m = sm.OLS(df_calls[filt1]['Calls'],df_calls[filt1].iloc[:,2:12].drop(columns='Calls'))\n",
    "results2_m = model2_m.fit()"
   ]
  },
  {
   "cell_type": "code",
   "execution_count": 142,
   "metadata": {},
   "outputs": [
    {
     "name": "stderr",
     "output_type": "stream",
     "text": [
      "C:\\Users\\Maliarenko\\Anaconda3\\envs\\dataInvestigation\\lib\\site-packages\\scipy\\stats\\stats.py:1394: UserWarning: kurtosistest only valid for n>=20 ... continuing anyway, n=18\n",
      "  \"anyway, n=%i\" % int(n))\n"
     ]
    },
    {
     "data": {
      "text/html": [
       "<table class=\"simpletable\">\n",
       "<caption>OLS Regression Results</caption>\n",
       "<tr>\n",
       "  <th>Dep. Variable:</th>          <td>Calls</td>      <th>  R-squared:         </th> <td>   0.616</td>\n",
       "</tr>\n",
       "<tr>\n",
       "  <th>Model:</th>                   <td>OLS</td>       <th>  Adj. R-squared:    </th> <td>   0.346</td>\n",
       "</tr>\n",
       "<tr>\n",
       "  <th>Method:</th>             <td>Least Squares</td>  <th>  F-statistic:       </th> <td>   2.287</td>\n",
       "</tr>\n",
       "<tr>\n",
       "  <th>Date:</th>             <td>Sat, 27 Oct 2018</td> <th>  Prob (F-statistic):</th>  <td> 0.114</td> \n",
       "</tr>\n",
       "<tr>\n",
       "  <th>Time:</th>                 <td>13:13:33</td>     <th>  Log-Likelihood:    </th> <td> -132.03</td>\n",
       "</tr>\n",
       "<tr>\n",
       "  <th>No. Observations:</th>      <td>    18</td>      <th>  AIC:               </th> <td>   280.1</td>\n",
       "</tr>\n",
       "<tr>\n",
       "  <th>Df Residuals:</th>          <td>    10</td>      <th>  BIC:               </th> <td>   287.2</td>\n",
       "</tr>\n",
       "<tr>\n",
       "  <th>Df Model:</th>              <td>     7</td>      <th>                     </th>     <td> </td>   \n",
       "</tr>\n",
       "<tr>\n",
       "  <th>Covariance Type:</th>      <td>nonrobust</td>    <th>                     </th>     <td> </td>   \n",
       "</tr>\n",
       "</table>\n",
       "<table class=\"simpletable\">\n",
       "<tr>\n",
       "             <td></td>                <th>coef</th>     <th>std err</th>      <th>t</th>      <th>P>|t|</th>  <th>[0.025</th>    <th>0.975]</th>  \n",
       "</tr>\n",
       "<tr>\n",
       "  <th>PopulationAge_0_to_14</th>   <td>   -0.4323</td> <td>    0.327</td> <td>   -1.321</td> <td> 0.216</td> <td>   -1.162</td> <td>    0.297</td>\n",
       "</tr>\n",
       "<tr>\n",
       "  <th>PopulationAge_15_to_24</th>  <td>   -0.3124</td> <td>    0.288</td> <td>   -1.086</td> <td> 0.303</td> <td>   -0.953</td> <td>    0.329</td>\n",
       "</tr>\n",
       "<tr>\n",
       "  <th>PopulationAge_25_to_34</th>  <td>   -0.6242</td> <td>    0.393</td> <td>   -1.590</td> <td> 0.143</td> <td>   -1.499</td> <td>    0.251</td>\n",
       "</tr>\n",
       "<tr>\n",
       "  <th>PopulationAge_35_to_44</th>  <td>    0.6759</td> <td>    0.547</td> <td>    1.235</td> <td> 0.245</td> <td>   -0.543</td> <td>    1.895</td>\n",
       "</tr>\n",
       "<tr>\n",
       "  <th>PopulationAge_45_to_54</th>  <td>   -0.9512</td> <td>    0.696</td> <td>   -1.366</td> <td> 0.202</td> <td>   -2.503</td> <td>    0.600</td>\n",
       "</tr>\n",
       "<tr>\n",
       "  <th>PopulationAge_55_to_70</th>  <td>   -0.8191</td> <td>    0.883</td> <td>   -0.927</td> <td> 0.376</td> <td>   -2.787</td> <td>    1.149</td>\n",
       "</tr>\n",
       "<tr>\n",
       "  <th>PopulationAge_71_to_120</th> <td>    2.9194</td> <td>    1.881</td> <td>    1.552</td> <td> 0.152</td> <td>   -1.271</td> <td>    7.110</td>\n",
       "</tr>\n",
       "<tr>\n",
       "  <th>Total_Population</th>        <td>    0.4561</td> <td>    0.202</td> <td>    2.255</td> <td> 0.048</td> <td>    0.005</td> <td>    0.907</td>\n",
       "</tr>\n",
       "<tr>\n",
       "  <th>Intercept</th>               <td>  263.3257</td> <td>  902.171</td> <td>    0.292</td> <td> 0.776</td> <td>-1746.837</td> <td> 2273.488</td>\n",
       "</tr>\n",
       "</table>\n",
       "<table class=\"simpletable\">\n",
       "<tr>\n",
       "  <th>Omnibus:</th>       <td> 2.020</td> <th>  Durbin-Watson:     </th> <td>   2.755</td>\n",
       "</tr>\n",
       "<tr>\n",
       "  <th>Prob(Omnibus):</th> <td> 0.364</td> <th>  Jarque-Bera (JB):  </th> <td>   0.780</td>\n",
       "</tr>\n",
       "<tr>\n",
       "  <th>Skew:</th>          <td> 0.483</td> <th>  Prob(JB):          </th> <td>   0.677</td>\n",
       "</tr>\n",
       "<tr>\n",
       "  <th>Kurtosis:</th>      <td> 3.324</td> <th>  Cond. No.          </th> <td>1.01e+17</td>\n",
       "</tr>\n",
       "</table><br/><br/>Warnings:<br/>[1] Standard Errors assume that the covariance matrix of the errors is correctly specified.<br/>[2] The smallest eigenvalue is 1.71e-25. This might indicate that there are<br/>strong multicollinearity problems or that the design matrix is singular."
      ],
      "text/plain": [
       "<class 'statsmodels.iolib.summary.Summary'>\n",
       "\"\"\"\n",
       "                            OLS Regression Results                            \n",
       "==============================================================================\n",
       "Dep. Variable:                  Calls   R-squared:                       0.616\n",
       "Model:                            OLS   Adj. R-squared:                  0.346\n",
       "Method:                 Least Squares   F-statistic:                     2.287\n",
       "Date:                Sat, 27 Oct 2018   Prob (F-statistic):              0.114\n",
       "Time:                        13:13:33   Log-Likelihood:                -132.03\n",
       "No. Observations:                  18   AIC:                             280.1\n",
       "Df Residuals:                      10   BIC:                             287.2\n",
       "Df Model:                           7                                         \n",
       "Covariance Type:            nonrobust                                         \n",
       "===========================================================================================\n",
       "                              coef    std err          t      P>|t|      [0.025      0.975]\n",
       "-------------------------------------------------------------------------------------------\n",
       "PopulationAge_0_to_14      -0.4323      0.327     -1.321      0.216      -1.162       0.297\n",
       "PopulationAge_15_to_24     -0.3124      0.288     -1.086      0.303      -0.953       0.329\n",
       "PopulationAge_25_to_34     -0.6242      0.393     -1.590      0.143      -1.499       0.251\n",
       "PopulationAge_35_to_44      0.6759      0.547      1.235      0.245      -0.543       1.895\n",
       "PopulationAge_45_to_54     -0.9512      0.696     -1.366      0.202      -2.503       0.600\n",
       "PopulationAge_55_to_70     -0.8191      0.883     -0.927      0.376      -2.787       1.149\n",
       "PopulationAge_71_to_120     2.9194      1.881      1.552      0.152      -1.271       7.110\n",
       "Total_Population            0.4561      0.202      2.255      0.048       0.005       0.907\n",
       "Intercept                 263.3257    902.171      0.292      0.776   -1746.837    2273.488\n",
       "==============================================================================\n",
       "Omnibus:                        2.020   Durbin-Watson:                   2.755\n",
       "Prob(Omnibus):                  0.364   Jarque-Bera (JB):                0.780\n",
       "Skew:                           0.483   Prob(JB):                        0.677\n",
       "Kurtosis:                       3.324   Cond. No.                     1.01e+17\n",
       "==============================================================================\n",
       "\n",
       "Warnings:\n",
       "[1] Standard Errors assume that the covariance matrix of the errors is correctly specified.\n",
       "[2] The smallest eigenvalue is 1.71e-25. This might indicate that there are\n",
       "strong multicollinearity problems or that the design matrix is singular.\n",
       "\"\"\""
      ]
     },
     "execution_count": 142,
     "metadata": {},
     "output_type": "execute_result"
    }
   ],
   "source": [
    "results2_m.summary()"
   ]
  },
  {
   "cell_type": "code",
   "execution_count": 146,
   "metadata": {},
   "outputs": [
    {
     "data": {
      "image/png": "[encoded data removed]",
      "text/plain": [
       "<Figure size 432x288 with 1 Axes>"
      ]
     },
     "metadata": {
      "needs_background": "light"
     },
     "output_type": "display_data"
    }
   ],
   "source": [
    "fig, ax = plt.subplots()\n",
    "fig = sm.graphics.plot_fit(results2_m,5,ax=ax)\n",
    "plt.show()"
   ]
  },
  {
   "cell_type": "markdown",
   "metadata": {},
   "source": [
    "Kitchen sink didn't work either. \n",
    "\n",
    "We could look at some non-linear models, but the rest of the system seems to be fairly linear. The use case for the space is quite different, being mixed residential and commercial. It would suggest that something to do with the commercial portion makes the demand for calls significantly different. \n",
    "\n",
    "As it stands, the demand for emergency services seems poorly correlated with population of any brand. "
   ]
  },
  {
   "cell_type": "markdown",
   "metadata": {},
   "source": [
    "## Items for Further Analysis\n",
    "* Seeing if there are better correlations for Neighourhood 3 with subsets of the population.\n",
    "* Check if population growth is sinusoidal. A linear relationship still seems like a good place to start. "
   ]
  },
  {
   "cell_type": "code",
   "execution_count": null,
   "metadata": {},
   "outputs": [],
   "source": []
  }
 ],
 "metadata": {
  "kernelspec": {
   "display_name": "Python [conda env:dataInvestigation]",
   "language": "python",
   "name": "conda-env-dataInvestigation-py"
  },
  "language_info": {
   "codemirror_mode": {
    "name": "ipython",
    "version": 3
   },
   "file_extension": ".py",
   "mimetype": "text/x-python",
   "name": "python",
   "nbconvert_exporter": "python",
   "pygments_lexer": "ipython3",
   "version": "3.7.0"
  }
 },
 "nbformat": 4,
 "nbformat_minor": 2
}
